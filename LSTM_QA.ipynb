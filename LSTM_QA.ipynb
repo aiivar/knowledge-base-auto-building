{
  "nbformat": 4,
  "nbformat_minor": 0,
  "metadata": {
    "colab": {
      "provenance": []
    },
    "kernelspec": {
      "name": "python3",
      "display_name": "Python 3"
    },
    "language_info": {
      "name": "python"
    }
  },
  "cells": [
    {
      "cell_type": "code",
      "source": [
        "# Be sure you're using the stable versions of both `tensorflow` and\n",
        "# `tensorflow-text`, for binary compatibility.\n",
        "! pip uninstall -y tf-nightly keras-nightly\n",
        "! pip install tensorflow\n",
        "! pip install tensorflow-text\n",
        "! pip install pymorphy2\n",
        "from IPython.display import clear_output\n",
        "clear_output()"
      ],
      "metadata": {
        "id": "ksX6ag7ejMna"
      },
      "execution_count": null,
      "outputs": []
    },
    {
      "cell_type": "code",
      "source": [
        "import collections\n",
        "import pathlib\n",
        "import re\n",
        "\n",
        "import tensorflow as tf\n",
        "\n",
        "from tensorflow.keras import layers\n",
        "from tensorflow.keras import losses\n",
        "from tensorflow.keras import utils\n",
        "from tensorflow.keras.layers import TextVectorization\n",
        "\n",
        "import tensorflow_text as tf_text\n",
        "import numpy as np\n",
        "import matplotlib.pyplot as plt\n",
        "\n",
        "from nltk.corpus import stopwords\n",
        "import nltk\n",
        "from pymorphy2 import MorphAnalyzer\n",
        "\n",
        "nltk.download('stopwords')\n",
        "stopwords = stopwords.words('russian')\n",
        "morph = MorphAnalyzer()"
      ],
      "metadata": {
        "id": "Bt2P3mfxjO48",
        "colab": {
          "base_uri": "https://localhost:8080/"
        },
        "outputId": "80129c59-0ea3-40b6-f9f8-cda4366b26e7"
      },
      "execution_count": null,
      "outputs": [
        {
          "output_type": "stream",
          "name": "stderr",
          "text": [
            "[nltk_data] Downloading package stopwords to /root/nltk_data...\n",
            "[nltk_data]   Unzipping corpora/stopwords.zip.\n"
          ]
        }
      ]
    },
    {
      "cell_type": "code",
      "source": [
        "def get_real_label(sigmoid_out):\n",
        "  if sigmoid_out >= 0.5:\n",
        "    return 1\n",
        "  else:\n",
        "    return 0\n",
        "\n",
        "\n",
        "def get_real_preds(predictions):\n",
        "  return np.array(list(map(get_real_label, predictions)))"
      ],
      "metadata": {
        "id": "EsmnaWDG2wRs"
      },
      "execution_count": null,
      "outputs": []
    },
    {
      "cell_type": "code",
      "source": [
        "def lemmatize(sentence):\n",
        "    tokens = []\n",
        "    for token in sentence.split():\n",
        "        if token and token not in stopwords:\n",
        "            token = token.strip()\n",
        "            token = morph.normal_forms(token)[0]\n",
        "\n",
        "            tokens.append(token)\n",
        "    if len(tokens) > 0:\n",
        "        return ' '.join(tokens)\n",
        "    return ''\n",
        "\n",
        "\n",
        "good_pattern = re.compile('[^а-яА-Я ]')\n",
        "space_pattern = re.compile(' +')\n",
        "\n",
        "\n",
        "def clean_text(text):\n",
        "    new_text = good_pattern.sub(' ', text).strip()\n",
        "    new_text = re.sub(space_pattern, ' ', new_text)\n",
        "    return new_text\n",
        "\n",
        "\n",
        "def normalize(text):\n",
        "  return lemmatize(clean_text(text.lower()))"
      ],
      "metadata": {
        "id": "lAKEDdpvHjuR"
      },
      "execution_count": null,
      "outputs": []
    },
    {
      "cell_type": "code",
      "source": [
        "def plot_graphs(history, metric):\n",
        "  plt.plot(history.history[metric])\n",
        "  plt.plot(history.history['val_'+metric], '')\n",
        "  plt.xlabel(\"Epochs\")\n",
        "  plt.ylabel(metric)\n",
        "  plt.legend([metric, 'val_'+metric])"
      ],
      "metadata": {
        "id": "jSk1IhJPjQsZ"
      },
      "execution_count": null,
      "outputs": []
    },
    {
      "cell_type": "code",
      "source": [
        "from google.colab import drive\n",
        "drive.mount('/content/drive/')"
      ],
      "metadata": {
        "colab": {
          "base_uri": "https://localhost:8080/"
        },
        "id": "C80X9nITInLT",
        "outputId": "ce5d8f8f-a375-4dce-be65-557c86ff6f17"
      },
      "execution_count": null,
      "outputs": [
        {
          "output_type": "stream",
          "name": "stdout",
          "text": [
            "Mounted at /content/drive/\n"
          ]
        }
      ]
    },
    {
      "cell_type": "code",
      "source": [
        "import os\n",
        "#Change the current working directory to the path of Google Cloud Drive\n",
        "path=\"/content/drive/MyDrive/ML\"\n",
        "os.chdir(path)\n",
        "print(os.listdir(path))\n",
        "os.chdir('/content')"
      ],
      "metadata": {
        "colab": {
          "base_uri": "https://localhost:8080/"
        },
        "id": "HWAgzML3Io1m",
        "outputId": "db09f1c2-60c7-44ee-8110-ac4666b36866"
      },
      "execution_count": null,
      "outputs": [
        {
          "output_type": "stream",
          "name": "stdout",
          "text": [
            "['backbone_labeled.json', 'backbone_labeled1.json', 'qa_labeled1.json', 'backbone_labeled2.json', 'qa_labeled.json', 'ee66fe54-da44-411e-a67e-19bacd205646.json']\n"
          ]
        }
      ]
    },
    {
      "cell_type": "code",
      "execution_count": null,
      "metadata": {
        "colab": {
          "base_uri": "https://localhost:8080/"
        },
        "id": "txjJsmqDM8sX",
        "outputId": "de4cd1d8-57b2-45e8-f494-c0ef4507d0e2"
      },
      "outputs": [
        {
          "output_type": "stream",
          "name": "stderr",
          "text": [
            "[nltk_data] Downloading package stopwords to /root/nltk_data...\n",
            "[nltk_data]   Package stopwords is already up-to-date!\n"
          ]
        }
      ],
      "source": [
        "import string\n",
        "from sklearn.metrics.pairwise import cosine_similarity\n",
        "from sklearn.feature_extraction.text import CountVectorizer\n",
        "from nltk.corpus import stopwords\n",
        "import nltk\n",
        "\n",
        "\n",
        "nltk.download('stopwords')\n",
        "stopwords = stopwords.words('russian')"
      ]
    },
    {
      "cell_type": "code",
      "source": [
        "import json\n",
        "with open(\"/content/drive/MyDrive/ML/qa_labeled.json\", 'r', encoding='utf-8') as fdata:\n",
        "  data_js = json.load(fdata)"
      ],
      "metadata": {
        "id": "2X8B8QRvTQ3Z"
      },
      "execution_count": null,
      "outputs": []
    },
    {
      "cell_type": "code",
      "source": [
        "import pandas as pd\n",
        "\n",
        "labeled_pairs = []\n",
        "\n",
        "for row in data_js:\n",
        "  pairs = row['pairs']\n",
        "  for pair in pairs:\n",
        "    pair['question'] = pair['question'].lower()\n",
        "    pair['answer'] = pair['answer'].lower()\n",
        "  labeled_pairs.extend(pairs)\n",
        "\n",
        "js_df = pd.read_json(json.dumps(labeled_pairs))\n",
        "js_df.to_csv('file.csv')"
      ],
      "metadata": {
        "id": "MK4kC1dQXSJ-"
      },
      "execution_count": null,
      "outputs": []
    },
    {
      "cell_type": "code",
      "source": [
        "data = pd.read_csv(\"file.csv\")\n",
        "print(data.head())\n",
        "print(len(data))"
      ],
      "metadata": {
        "colab": {
          "base_uri": "https://localhost:8080/"
        },
        "id": "tO6vB_-tXwhJ",
        "outputId": "46c8c32d-07b3-4b24-9c8d-cd11dda125d5"
      },
      "execution_count": null,
      "outputs": [
        {
          "output_type": "stream",
          "name": "stdout",
          "text": [
            "   Unnamed: 0                                           question  \\\n",
            "0           0  подскажите, пожалуйста, как перевести регионал...   \n",
            "1           1  подскажите, пожалуйста, как перевести регионал...   \n",
            "2           2  как женщине которая старше ... как женщине кот...   \n",
            "3           3  как женщине которая старше ... как женщине кот...   \n",
            "4           4  что делать если вы пригласили девушку в рестор...   \n",
            "\n",
            "                                              answer  label  \n",
            "0  к сожалению, всей процедуры рассказать не могу...      1  \n",
            "1                         скрыть ошибку косметолога.      0  \n",
            "2  ну если поймет, то к дружбе прибавится и любов...      1  \n",
            "3  проверить антивирусом, не поможет форматирование.      0  \n",
            "4  оставить девушку в ресторане, а самому быстро ...      1  \n",
            "305714\n"
          ]
        }
      ]
    },
    {
      "cell_type": "code",
      "source": [
        "row = data.iloc[124]\n",
        "row_text = []\n",
        "row_text.append(row['question'])\n",
        "row_text.append(row['answer'])"
      ],
      "metadata": {
        "id": "1B2XaEFOYWlx"
      },
      "execution_count": null,
      "outputs": []
    },
    {
      "cell_type": "code",
      "source": [
        "def clean_string(text):\n",
        "  text = ''.join([word for word in text if word not in string.punctuation])\n",
        "  text = text.lower()\n",
        "  text = ' '.join([word for word in text.split() if word not in stopwords])\n",
        "  return text"
      ],
      "metadata": {
        "id": "IjYKGwj_bbYi"
      },
      "execution_count": null,
      "outputs": []
    },
    {
      "cell_type": "code",
      "source": [
        "cleaned = list(map(clean_string, row_text))\n",
        "cleaned"
      ],
      "metadata": {
        "colab": {
          "base_uri": "https://localhost:8080/"
        },
        "id": "lENQrVmLblWi",
        "outputId": "e3f3c302-a16c-4092-ef36-974fcb8f0afc"
      },
      "execution_count": null,
      "outputs": [
        {
          "output_type": "execute_result",
          "data": {
            "text/plain": [
              "['почему почему разделе философия стало скучнопочему ответы душипочему вопросы сердца это философияили просто убиваем время ждем просветленияэх',\n",
              " 'родари']"
            ]
          },
          "metadata": {},
          "execution_count": 14
        }
      ]
    },
    {
      "cell_type": "code",
      "source": [
        "vectorizer = CountVectorizer().fit_transform(cleaned)\n",
        "vectors = vectorizer.toarray()\n",
        "vectors"
      ],
      "metadata": {
        "colab": {
          "base_uri": "https://localhost:8080/"
        },
        "id": "chLWWJcjcLg8",
        "outputId": "404c9b58-d4f3-49bf-a7d9-15b22b3ec836"
      },
      "execution_count": null,
      "outputs": [
        {
          "output_type": "execute_result",
          "data": {
            "text/plain": [
              "array([[1, 1, 1, 1, 1, 2, 1, 1, 1, 0, 1, 1, 1, 1, 1, 1, 1],\n",
              "       [0, 0, 0, 0, 0, 0, 0, 0, 0, 1, 0, 0, 0, 0, 0, 0, 0]])"
            ]
          },
          "metadata": {},
          "execution_count": 15
        }
      ]
    },
    {
      "cell_type": "code",
      "source": [
        "csim = cosine_similarity(vectors)\n",
        "csim"
      ],
      "metadata": {
        "colab": {
          "base_uri": "https://localhost:8080/"
        },
        "id": "K16eIfDScbhV",
        "outputId": "152b0e52-9d20-4d57-9792-f022ff3f47ec"
      },
      "execution_count": null,
      "outputs": [
        {
          "output_type": "execute_result",
          "data": {
            "text/plain": [
              "array([[1., 0.],\n",
              "       [0., 1.]])"
            ]
          },
          "metadata": {},
          "execution_count": 16
        }
      ]
    },
    {
      "cell_type": "code",
      "source": [
        "def cosine_sim_vectors(vec1, vec2):\n",
        "  vec1 = vec1.reshape(1, -1)\n",
        "  vec2 = vec2.reshape(1, -1)\n",
        "  return cosine_similarity(vec1, vec2)[0][0]"
      ],
      "metadata": {
        "id": "RKydXzjkcsY1"
      },
      "execution_count": null,
      "outputs": []
    },
    {
      "cell_type": "code",
      "source": [
        "cosine_sim_vectors(vectors[0], vectors[1])"
      ],
      "metadata": {
        "colab": {
          "base_uri": "https://localhost:8080/"
        },
        "id": "RlknEMZGcv7D",
        "outputId": "15451def-9248-43a1-87a4-4e7c43cc8669"
      },
      "execution_count": null,
      "outputs": [
        {
          "output_type": "execute_result",
          "data": {
            "text/plain": [
              "0.0"
            ]
          },
          "metadata": {},
          "execution_count": 18
        }
      ]
    },
    {
      "cell_type": "code",
      "source": [
        "def check_pair_is_good(question, answer, min_similarity=0):\n",
        "  row_text = []\n",
        "  row_text.append(question)\n",
        "  row_text.append(answer)\n",
        "  cleaned = list(map(clean_string, row_text))\n",
        "  vectorizer = CountVectorizer().fit_transform(cleaned)\n",
        "  vectors = vectorizer.toarray()\n",
        "  return cosine_sim_vectors(vectors[0], vectors[1]) > min_similarity"
      ],
      "metadata": {
        "id": "xaft3viad2o8"
      },
      "execution_count": null,
      "outputs": []
    },
    {
      "cell_type": "code",
      "source": [
        "labeled_pairs = []\n",
        "\n",
        "counter = 0\n",
        "total = len(data_js)\n",
        "\n",
        "for row in data_js:\n",
        "  counter += 1\n",
        "  if counter % 10000 == 0:\n",
        "    print(f\"Processed {counter}/{total}\")\n",
        "  pairs = row['pairs']\n",
        "  skip = False\n",
        "  for pair in pairs:\n",
        "    pair['question'] = pair['question'].lower()\n",
        "    pair['answer'] = pair['answer'].lower()\n",
        "    if not check_pair_is_good(pair['question'], pair['answer']):\n",
        "      skip = True\n",
        "      break\n",
        "  if skip:\n",
        "    continue\n",
        "  labeled_pairs.extend(pairs)\n",
        "\n",
        "js_df = pd.read_json(json.dumps(labeled_pairs))\n",
        "js_df.to_csv('file.csv')"
      ],
      "metadata": {
        "colab": {
          "base_uri": "https://localhost:8080/"
        },
        "id": "TsUgCjUIdlTS",
        "outputId": "6c6e1f50-7712-49d3-f6fd-1cee2bba6157"
      },
      "execution_count": null,
      "outputs": [
        {
          "output_type": "stream",
          "name": "stdout",
          "text": [
            "Processed 10000/152857\n",
            "Processed 20000/152857\n",
            "Processed 30000/152857\n",
            "Processed 40000/152857\n",
            "Processed 50000/152857\n",
            "Processed 60000/152857\n",
            "Processed 70000/152857\n",
            "Processed 80000/152857\n",
            "Processed 90000/152857\n",
            "Processed 100000/152857\n",
            "Processed 110000/152857\n",
            "Processed 120000/152857\n",
            "Processed 130000/152857\n",
            "Processed 140000/152857\n",
            "Processed 150000/152857\n"
          ]
        }
      ]
    },
    {
      "cell_type": "code",
      "source": [
        "data = pd.read_csv(\"file.csv\")\n",
        "print(data.head())\n",
        "print(len(data))"
      ],
      "metadata": {
        "colab": {
          "base_uri": "https://localhost:8080/"
        },
        "id": "MHt4qFeYgVJR",
        "outputId": "7141a94c-5834-411a-d57e-7648ebf44ca6"
      },
      "execution_count": null,
      "outputs": [
        {
          "output_type": "stream",
          "name": "stdout",
          "text": [
            "   Unnamed: 0                                           question  \\\n",
            "0           0  почему еще сегодня так многие думают, что немц...   \n",
            "1           1  почему еще сегодня так многие думают, что немц...   \n",
            "2           2  почему я не могу смотреть людям в глаза? и на ...   \n",
            "3           3  почему я не могу смотреть людям в глаза? и на ...   \n",
            "4           4  почему так??? мы расстались давно, но он не ка...   \n",
            "\n",
            "                                              answer  label  \n",
            "0                      оверманс ничего не доказывал.      1  \n",
            "1                       паутина.. . точно паутина!!!      0  \n",
            "2  афазия, это речевые нарушения, связанные с пор...      0  \n",
            "3  комплекс страх    кстати меня тоже это интерес...      1  \n",
            "4  раз и навсегда это не метод! порви два и на оп...      1  \n",
            "4420\n"
          ]
        }
      ]
    },
    {
      "cell_type": "code",
      "source": [
        "from sklearn.model_selection import train_test_split\n",
        "data[\"pair\"] = data[['question', 'answer']].agg(' '.join, axis=1)\n",
        "data_features = data.copy()\n",
        "train, test = train_test_split(data.copy(), train_size=0.7)\n",
        "data_labels_train = train['label']\n",
        "data_features1_train = train['question']\n",
        "data_features2_train = train['answer']\n",
        "\n",
        "data_labels_test = test['label']\n",
        "data_features1_test = test['question']\n",
        "data_features2_test = test['answer']\n",
        "\n",
        "data_features1_train = data_features1_train.apply(normalize)\n",
        "data_features2_train = data_features2_train.apply(normalize)\n",
        "\n",
        "data_features1_test = data_features1_test.apply(normalize)\n",
        "data_features2_test = data_features2_test.apply(normalize)\n",
        "\n",
        "data_labels = data_features['label']\n",
        "data_features = data_features['pair'].apply(normalize)\n",
        "\n",
        "print(data_features.head())\n",
        "print(data_features.iloc[0])\n",
        "print(data_labels.shape)"
      ],
      "metadata": {
        "colab": {
          "base_uri": "https://localhost:8080/"
        },
        "id": "WJPwIberi54N",
        "outputId": "a7874e77-dc43-4ded-b80a-ca4bde677540"
      },
      "execution_count": null,
      "outputs": [
        {
          "output_type": "stream",
          "name": "stdout",
          "text": [
            "0    почему сегодня многие думать немец точно учиты...\n",
            "1    почему сегодня многие думать немец точно учиты...\n",
            "2    почему мочь смотреть человек глаз человек наво...\n",
            "3    почему мочь смотреть человек глаз человек наво...\n",
            "4    почему расстаться давно оставить покой постоян...\n",
            "Name: pair, dtype: object\n",
            "почему сегодня многие думать немец точно учитывать свой потеря оверманс доказать обратный оверманс доказывать\n",
            "(4420,)\n"
          ]
        }
      ]
    },
    {
      "cell_type": "code",
      "source": [
        "data_features_tensor= tf.convert_to_tensor(data_features, dtype=tf.string)\n",
        "data_labels_tensor = tf.constant(data_labels)\n",
        "enc_dataset = tf.data.Dataset.from_tensor_slices((data_features, data_labels))\n",
        "# qa_dataset = tf.data.Dataset.from_tensor_slices(({'input_q': data_features1, 'input_a': data_features2}, data_labels))\n",
        "# qa_dataset"
      ],
      "metadata": {
        "id": "ASmhQbdbkp9L"
      },
      "execution_count": null,
      "outputs": []
    },
    {
      "cell_type": "code",
      "source": [
        "# Shuffle the dataset\n",
        "# qa_dataset = qa_dataset.shuffle(buffer_size=len(data_features))\n",
        "enc_dataset = enc_dataset.shuffle(buffer_size=len(data_features))\n",
        "\n",
        "# Split the dataset into training and testing sets\n",
        "train_dataset = tf.data.Dataset.from_tensor_slices(({'input_q': data_features1_train, 'input_a': data_features2_train}, data_labels_train))\n",
        "\n",
        "# Batch the training and testing datasets\n",
        "batch_size = 16\n",
        "steps_per_epoch = len(train_dataset)//batch_size\n",
        "\n",
        "enc_dataset = enc_dataset.batch(batch_size)\n",
        "\n",
        "train_dataset = train_dataset.batch(batch_size)\n",
        "\n",
        "test_dataset = tf.data.Dataset.from_tensor_slices(({'input_q': data_features1_test, 'input_a': data_features2_test}, data_labels_test))\n",
        "\n",
        "test_dataset = test_dataset.batch(batch_size)\n",
        "steps_per_epoch = len(train_dataset)\n",
        "print(f\"steps_per_epoch: {steps_per_epoch}\")\n",
        "print(f\"train_dataset: {len(train_dataset)}\")\n",
        "print(f\"test_dataset: {len(test_dataset)}\")"
      ],
      "metadata": {
        "colab": {
          "base_uri": "https://localhost:8080/"
        },
        "id": "iUQ28AfEksS1",
        "outputId": "a9e3c861-e2ba-49b5-d848-59a2203fb539"
      },
      "execution_count": null,
      "outputs": [
        {
          "output_type": "stream",
          "name": "stdout",
          "text": [
            "steps_per_epoch: 194\n",
            "train_dataset: 194\n",
            "test_dataset: 83\n"
          ]
        }
      ]
    },
    {
      "cell_type": "code",
      "source": [
        "VOCAB_SIZE = 35000\n",
        "encoder1 = tf.keras.layers.TextVectorization(\n",
        "    max_tokens=VOCAB_SIZE)\n",
        "encoder1.adapt(enc_dataset.map(lambda text, label: text))\n",
        "encoder2 = tf.keras.layers.TextVectorization(\n",
        "    max_tokens=VOCAB_SIZE)\n",
        "encoder2.adapt(enc_dataset.map(lambda text, label: text))\n",
        "vocab = np.array(encoder1.get_vocabulary())"
      ],
      "metadata": {
        "id": "6uvRXGqzk1gH"
      },
      "execution_count": null,
      "outputs": []
    },
    {
      "cell_type": "code",
      "source": [
        "vocab[200:300]"
      ],
      "metadata": {
        "colab": {
          "base_uri": "https://localhost:8080/"
        },
        "id": "6LoyW_Nlk6cp",
        "outputId": "c84602ab-e894-416c-ef90-d9dbd87160b3"
      },
      "execution_count": null,
      "outputs": [
        {
          "output_type": "execute_result",
          "data": {
            "text/plain": [
              "array(['поставить', 'начало', 'внимание', 'большой', 'начать', 'сидеть',\n",
              "       'русский', 'пойти', 'зависеть', 'документ', 'фильм', 'решить',\n",
              "       'пол', 'собака', 'просить', 'долго', 'боль', 'чувствовать',\n",
              "       'полный', 'себя', 'многие', 'давно', 'возраст', 'пытаться',\n",
              "       'пусть', 'ответить', 'немного', 'народ', 'красивый', 'мысль',\n",
              "       'лицо', 'спать', 'появиться', 'учиться', 'проходить', 'посмотреть',\n",
              "       'помощь', 'обязательно', 'волос', 'удача', 'становиться',\n",
              "       'получать', 'комп', 'настоящий', 'вид', 'слышать', 'причина',\n",
              "       'приходить', 'к', 'интересно', 'действительно', 'свет', 'простой',\n",
              "       'называться', 'тся', 'реально', 'увидеть', 'выйти', 'вернуть',\n",
              "       'быстро', 'рядом', 'попробовать', 'получаться', 'ночь', 'молодой',\n",
              "       'лёгкий', 'лишь', 'тип', 'суд', 'желание', 'смерть', 'оно',\n",
              "       'никак', 'мало', 'закон', 'тело', 'ставить', 'пора', 'личный',\n",
              "       'здравствуйте', 'мужик', 'заранее', 'уйти', 'вещь', 'ток',\n",
              "       'против', 'помогать', 'обычно', 'общий', 'образ', 'находиться',\n",
              "       'играть', 'цвет', 'момент', 'минута', 'кошка', 'брак', 'утро',\n",
              "       'спросить', 'программа'], dtype='<U22')"
            ]
          },
          "metadata": {},
          "execution_count": 26
        }
      ]
    },
    {
      "cell_type": "code",
      "source": [
        "from keras.layers.serialization import lstm\n",
        "input_q = tf.keras.layers.Input(shape=(1,), name='input_q', dtype=tf.string)\n",
        "input_a = tf.keras.layers.Input(shape=(1,), name='input_a', dtype=tf.string)\n",
        "encoder_q = encoder1(input_q)\n",
        "encoder_a = encoder2(input_a)\n",
        "embedding_q = tf.keras.layers.Embedding(\n",
        "        input_dim=len(encoder1.get_vocabulary()),\n",
        "        output_dim=64,\n",
        "        # Use masking to handle the variable sequence lengths\n",
        "        mask_zero=True)(encoder_q)\n",
        "embedding_a = tf.keras.layers.Embedding(\n",
        "        input_dim=len(encoder2.get_vocabulary()),\n",
        "        output_dim=64,\n",
        "        # Use masking to handle the variable sequence lengths\n",
        "        mask_zero=True)(encoder_a)\n",
        "lstm_q = tf.keras.layers.Bidirectional(tf.keras.layers.LSTM(64))(embedding_q)\n",
        "lstm_a = tf.keras.layers.Bidirectional(tf.keras.layers.LSTM(64))(embedding_a)\n",
        "lstm_out = tf.keras.layers.concatenate([lstm_q, lstm_a], axis=-1)\n",
        "dropout1 = tf.keras.layers.Dropout(0.2)(lstm_out)\n",
        "dense1 = tf.keras.layers.Dense(256, activation='relu')(dropout1)\n",
        "dropout2 = tf.keras.layers.Dropout(0.2)(dense1)\n",
        "dense2 = tf.keras.layers.Dense(64, activation='relu')(dropout2)\n",
        "dropout3 = tf.keras.layers.Dropout(0.2)(dense2)\n",
        "dense3 = tf.keras.layers.Dense(32, activation='relu')(dropout3)\n",
        "dropout4 = tf.keras.layers.Dropout(0.2)(dense3)\n",
        "output = tf.keras.layers.Dense(1, activation='sigmoid')(dropout4)\n",
        "\n",
        "model = tf.keras.models.Model(inputs=[input_q, input_a], outputs=output)"
      ],
      "metadata": {
        "id": "sYjct_ljk8VO"
      },
      "execution_count": null,
      "outputs": []
    },
    {
      "cell_type": "code",
      "source": [
        "model.compile(loss=tf.keras.losses.BinaryCrossentropy(),\n",
        "              optimizer=tf.keras.optimizers.Adam(1e-4),\n",
        "              metrics=[tf.keras.metrics.Precision(), tf.keras.metrics.Recall(), tf.keras.metrics.BinaryAccuracy()])\n",
        "model.summary()"
      ],
      "metadata": {
        "id": "uCwk2O0lk97b",
        "colab": {
          "base_uri": "https://localhost:8080/"
        },
        "outputId": "2cc836c2-cfa9-477e-deba-44cd4ec66933"
      },
      "execution_count": null,
      "outputs": [
        {
          "output_type": "stream",
          "name": "stdout",
          "text": [
            "Model: \"model\"\n",
            "__________________________________________________________________________________________________\n",
            " Layer (type)                   Output Shape         Param #     Connected to                     \n",
            "==================================================================================================\n",
            " input_q (InputLayer)           [(None, 1)]          0           []                               \n",
            "                                                                                                  \n",
            " input_a (InputLayer)           [(None, 1)]          0           []                               \n",
            "                                                                                                  \n",
            " text_vectorization (TextVector  (None, None)        0           ['input_q[0][0]']                \n",
            " ization)                                                                                         \n",
            "                                                                                                  \n",
            " text_vectorization_1 (TextVect  (None, None)        0           ['input_a[0][0]']                \n",
            " orization)                                                                                       \n",
            "                                                                                                  \n",
            " embedding (Embedding)          (None, None, 64)     1044672     ['text_vectorization[0][0]']     \n",
            "                                                                                                  \n",
            " embedding_1 (Embedding)        (None, None, 64)     1044672     ['text_vectorization_1[0][0]']   \n",
            "                                                                                                  \n",
            " bidirectional (Bidirectional)  (None, 128)          66048       ['embedding[0][0]']              \n",
            "                                                                                                  \n",
            " bidirectional_1 (Bidirectional  (None, 128)         66048       ['embedding_1[0][0]']            \n",
            " )                                                                                                \n",
            "                                                                                                  \n",
            " concatenate (Concatenate)      (None, 256)          0           ['bidirectional[0][0]',          \n",
            "                                                                  'bidirectional_1[0][0]']        \n",
            "                                                                                                  \n",
            " dropout (Dropout)              (None, 256)          0           ['concatenate[0][0]']            \n",
            "                                                                                                  \n",
            " dense (Dense)                  (None, 256)          65792       ['dropout[0][0]']                \n",
            "                                                                                                  \n",
            " dropout_1 (Dropout)            (None, 256)          0           ['dense[0][0]']                  \n",
            "                                                                                                  \n",
            " dense_1 (Dense)                (None, 64)           16448       ['dropout_1[0][0]']              \n",
            "                                                                                                  \n",
            " dropout_2 (Dropout)            (None, 64)           0           ['dense_1[0][0]']                \n",
            "                                                                                                  \n",
            " dense_2 (Dense)                (None, 32)           2080        ['dropout_2[0][0]']              \n",
            "                                                                                                  \n",
            " dropout_3 (Dropout)            (None, 32)           0           ['dense_2[0][0]']                \n",
            "                                                                                                  \n",
            " dense_3 (Dense)                (None, 1)            33          ['dropout_3[0][0]']              \n",
            "                                                                                                  \n",
            "==================================================================================================\n",
            "Total params: 2,305,793\n",
            "Trainable params: 2,305,793\n",
            "Non-trainable params: 0\n",
            "__________________________________________________________________________________________________\n"
          ]
        }
      ]
    },
    {
      "cell_type": "code",
      "source": [
        "checkpoint_path = 'training_1/cp.ckpt'\n",
        "cp_callback = tf.keras.callbacks.ModelCheckpoint(filepath=checkpoint_path,\n",
        "                                                 save_weights_only=True,\n",
        "                                                 save_best_only=True,\n",
        "                                                 verbose=1,\n",
        "                                                 monitor='val_loss')\n",
        "es_callback = tf.keras.callbacks.EarlyStopping(\n",
        "    monitor='val_loss',\n",
        "    min_delta=0,\n",
        "    patience=3,\n",
        "    verbose=0,\n",
        "    mode='auto',\n",
        "    baseline=None,\n",
        "    restore_best_weights=False\n",
        ")"
      ],
      "metadata": {
        "id": "lAlqPaCbU7tX"
      },
      "execution_count": null,
      "outputs": []
    },
    {
      "cell_type": "code",
      "source": [
        "history = model.fit(train_dataset, epochs=20,\n",
        "                    validation_data=test_dataset,\n",
        "                    batch_size=batch_size, callbacks=[cp_callback, es_callback])"
      ],
      "metadata": {
        "colab": {
          "base_uri": "https://localhost:8080/"
        },
        "id": "daOu9NjZk_zI",
        "outputId": "de935bc8-8998-470e-aa10-46858fc5840f"
      },
      "execution_count": null,
      "outputs": [
        {
          "output_type": "stream",
          "name": "stdout",
          "text": [
            "Epoch 1/20\n",
            "194/194 [==============================] - ETA: 0s - loss: 0.6931 - precision: 0.5000 - recall: 0.9516 - binary_accuracy: 0.4997\n",
            "Epoch 1: val_loss improved from inf to 0.69324, saving model to training_1/cp.ckpt\n",
            "194/194 [==============================] - 64s 222ms/step - loss: 0.6931 - precision: 0.5000 - recall: 0.9516 - binary_accuracy: 0.4997 - val_loss: 0.6932 - val_precision: 0.4992 - val_recall: 0.9940 - val_binary_accuracy: 0.4992\n",
            "Epoch 2/20\n",
            "194/194 [==============================] - ETA: 0s - loss: 0.6916 - precision: 0.5070 - recall: 0.9800 - binary_accuracy: 0.5133\n",
            "Epoch 2: val_loss improved from 0.69324 to 0.69227, saving model to training_1/cp.ckpt\n",
            "194/194 [==============================] - 36s 188ms/step - loss: 0.6916 - precision: 0.5070 - recall: 0.9800 - binary_accuracy: 0.5133 - val_loss: 0.6923 - val_precision: 0.5062 - val_recall: 0.9199 - val_binary_accuracy: 0.5121\n",
            "Epoch 3/20\n",
            "194/194 [==============================] - ETA: 0s - loss: 0.6758 - precision: 0.5570 - recall: 0.8837 - binary_accuracy: 0.5902\n",
            "Epoch 3: val_loss improved from 0.69227 to 0.68555, saving model to training_1/cp.ckpt\n",
            "194/194 [==============================] - 38s 198ms/step - loss: 0.6758 - precision: 0.5570 - recall: 0.8837 - binary_accuracy: 0.5902 - val_loss: 0.6856 - val_precision: 0.5651 - val_recall: 0.6692 - val_binary_accuracy: 0.5777\n",
            "Epoch 4/20\n",
            "194/194 [==============================] - ETA: 0s - loss: 0.5434 - precision: 0.7474 - recall: 0.7913 - binary_accuracy: 0.7618\n",
            "Epoch 4: val_loss did not improve from 0.68555\n",
            "194/194 [==============================] - 35s 182ms/step - loss: 0.5434 - precision: 0.7474 - recall: 0.7913 - binary_accuracy: 0.7618 - val_loss: 0.8711 - val_precision: 0.5596 - val_recall: 0.6314 - val_binary_accuracy: 0.5679\n",
            "Epoch 5/20\n",
            "194/194 [==============================] - ETA: 0s - loss: 0.3434 - precision: 0.9017 - recall: 0.8353 - binary_accuracy: 0.8720\n",
            "Epoch 5: val_loss did not improve from 0.68555\n",
            "194/194 [==============================] - 39s 203ms/step - loss: 0.3434 - precision: 0.9017 - recall: 0.8353 - binary_accuracy: 0.8720 - val_loss: 1.1230 - val_precision: 0.5386 - val_recall: 0.5695 - val_binary_accuracy: 0.5415\n",
            "Epoch 6/20\n",
            "194/194 [==============================] - ETA: 0s - loss: 0.2165 - precision: 0.9495 - recall: 0.8992 - binary_accuracy: 0.9257\n",
            "Epoch 6: val_loss did not improve from 0.68555\n",
            "194/194 [==============================] - 36s 185ms/step - loss: 0.2165 - precision: 0.9495 - recall: 0.8992 - binary_accuracy: 0.9257 - val_loss: 1.4746 - val_precision: 0.5279 - val_recall: 0.5997 - val_binary_accuracy: 0.5324\n"
          ]
        }
      ]
    },
    {
      "cell_type": "code",
      "source": [
        "model.load_weights(checkpoint_path)\n",
        "\n",
        "test_loss, test_pre, test_recc, test_acc = model.evaluate(test_dataset)\n",
        "\n",
        "print('Test Loss:', test_loss)\n",
        "print('Test Accuracy:', test_acc)\n",
        "#print(model.predict(test_dataset))"
      ],
      "metadata": {
        "colab": {
          "base_uri": "https://localhost:8080/"
        },
        "id": "ZkewwMB5lDgo",
        "outputId": "29a310bf-92da-47f6-8096-9892c0a881f6"
      },
      "execution_count": null,
      "outputs": [
        {
          "output_type": "stream",
          "name": "stdout",
          "text": [
            "83/83 [==============================] - 3s 30ms/step - loss: 0.6856 - precision: 0.5651 - recall: 0.6692 - binary_accuracy: 0.5777\n",
            "Test Loss: 0.6855506300926208\n",
            "Test Accuracy: 0.5776772499084473\n"
          ]
        }
      ]
    },
    {
      "cell_type": "code",
      "source": [
        "plt.figure(figsize=(16, 8))\n",
        "plt.subplot(1, 2, 1)\n",
        "plot_graphs(history, 'binary_accuracy')\n",
        "plt.ylim(None, 1)\n",
        "plt.subplot(1, 2, 2)\n",
        "plot_graphs(history, 'loss')\n",
        "plt.ylim(0, None)"
      ],
      "metadata": {
        "colab": {
          "base_uri": "https://localhost:8080/",
          "height": 719
        },
        "id": "DPL1TObRlFIs",
        "outputId": "72981ef3-6e88-4cd9-c586-d754d4e561ed"
      },
      "execution_count": null,
      "outputs": [
        {
          "output_type": "execute_result",
          "data": {
            "text/plain": [
              "(0.0, 1.5374554805457592)"
            ]
          },
          "metadata": {},
          "execution_count": 32
        },
        {
          "output_type": "display_data",
          "data": {
            "text/plain": [
              "<Figure size 1600x800 with 2 Axes>"
            ],
            "image/png": "[encoded data removed]"
          },
          "metadata": {}
        }
      ]
    },
    {
      "cell_type": "code",
      "source": [
        "def get_real_label(sigmoid_out):\n",
        "  if sigmoid_out >= 0.5:\n",
        "    return 1\n",
        "  else:\n",
        "    return 0"
      ],
      "metadata": {
        "id": "HcDACGTHONbF"
      },
      "execution_count": null,
      "outputs": []
    },
    {
      "cell_type": "code",
      "source": [
        "model.compile(loss=tf.keras.losses.BinaryCrossentropy(),\n",
        "              optimizer=tf.keras.optimizers.Adam(1e-4),\n",
        "              metrics=[tf.keras.metrics.Precision(), tf.keras.metrics.Recall(), tf.keras.metrics.BinaryAccuracy()])\n",
        "\n",
        "sample_text1 = ['приложение не передает знак операции. что делать?',\n",
        "               'всем привет. после обновления не показывает баланс на вкладке счета. как решить эту проблему?',\n",
        "               'сколько можно задавать одни и те же вопросы?',\n",
        "                'здравствуйте, у меня следующая проблема. не могу войти в почту по своему логину паролю. в чем может быть дело?',\n",
        "                'здравствуйте, у меня следующая проблема. не могу войти в почту по своему логину паролю. в чем может быть дело?',\n",
        "                'как можно сделать вкусную яишницу? и вообще на оливковом масле можно жарить и вкусно ли будет?',\n",
        "                'как можно сделать вкусную яишницу? и вообще на оливковом масле можно жарить и вкусно ли будет?']\n",
        "sample_text2 = ['банк передаст знаки операций. тут надо по логам разбираться',\n",
        "               'после обновления нужно переопределить баланс во вкладке мои счета главной страницы',\n",
        "               'да, согласен. не стоит их задавать',\n",
        "                'проблема может быть со стороны почтового сервера, либо попробуй написать в поддержку почту и указать свой логин и пароль',\n",
        "                'я должен объяснять, когда необходимо проводить аналитику счетов',\n",
        "                'легко. снимите вилкой белок в процессе готовки. желтки останутся жидкими. можно жарить. вкусно не будет. яичница вкусна на сливочном.',\n",
        "                'я вообще считаю что оформление документов в некоторых случях, усложняют жизнь например люди почему то думают что они могут управлять теперь даже мыслями свой избраницы и начинают пилить ...приказывать и указывать что им делать а в некоторых случяях даже лупить...']\n",
        "\n",
        "predictions = model.predict((np.array(sample_text1), np.array(sample_text2)))\n",
        "print(predictions)"
      ],
      "metadata": {
        "colab": {
          "base_uri": "https://localhost:8080/"
        },
        "id": "tvfsA_4rlHVA",
        "outputId": "890f7ad2-84b8-4d98-c417-c58fcfa62e8e"
      },
      "execution_count": null,
      "outputs": [
        {
          "output_type": "stream",
          "name": "stdout",
          "text": [
            "1/1 [==============================] - 7s 7s/step\n",
            "[[0.5831459 ]\n",
            " [0.583567  ]\n",
            " [0.59576213]\n",
            " [0.6911515 ]\n",
            " [0.54143256]\n",
            " [0.7130402 ]\n",
            " [0.6082299 ]]\n"
          ]
        }
      ]
    },
    {
      "cell_type": "code",
      "source": [
        "sample_text1 = ['добрый вечер. подскажите, как исключить из доходов и расходов переводы между своими счетами?']\n",
        "sample_text2 = ['причем тут прогресс если оно делает только хуже схлопывает вообще не нужные операции по какому-то своему между счетами']\n",
        "\n",
        "predictions = model.predict((np.array(sample_text1), np.array(sample_text2)))\n",
        "print(predictions)"
      ],
      "metadata": {
        "colab": {
          "base_uri": "https://localhost:8080/"
        },
        "id": "AIOrjbVhTZCC",
        "outputId": "132e25e1-23d0-498f-e610-a33a3ed898a5"
      },
      "execution_count": null,
      "outputs": [
        {
          "output_type": "stream",
          "name": "stdout",
          "text": [
            "1/1 [==============================] - 0s 45ms/step\n",
            "[[0.6161251]]\n"
          ]
        }
      ]
    },
    {
      "cell_type": "markdown",
      "source": [
        "# Fine tuning"
      ],
      "metadata": {
        "id": "z526Gl1BJFi0"
      }
    },
    {
      "cell_type": "code",
      "source": [
        "import random\n",
        "\n",
        "def extract_answer_text(answer):\n",
        "  return answer['text']\n",
        "\n",
        "\n",
        "def extract_answer_label(answer):\n",
        "  return answer['is_good_answer']\n",
        "\n",
        "\n",
        "def extract_answers_texts(answers):\n",
        "  return list(map(extract_answer_text, answers))\n",
        "\n",
        "\n",
        "def extract_answers_labels(answers):\n",
        "  return list(map(extract_answer_label, answers))\n",
        "\n",
        "\n",
        "def is_not_empty_str(line):\n",
        "  return line.strip() != ''\n",
        "\n",
        "\n",
        "def is_not_empty_answer_row(row):\n",
        "  return row['text'].strip() != ''\n",
        "\n",
        "\n",
        "def filter_empty_answers(answers):\n",
        "  return list(filter(is_not_empty_str, answers))\n",
        "\n",
        "\n",
        "def filter_empty_answer_rows(answers):\n",
        "  return list(filter(is_not_empty_answer_row, answers))\n",
        "\n",
        "\n",
        "def check_answers_correct(answers):\n",
        "  return len(filter_empty_answers(answers)) != 0\n",
        "\n",
        "\n",
        "def get_random_answer_text(data_json):\n",
        "  random_q = random.randint(0, len(data_json)-1)\n",
        "  row = data_json[random_q]\n",
        "  if not check_answers_correct(extract_answers_texts(row['answers'])):\n",
        "    return get_random_answer_text(data_json)\n",
        "  answers = filter_empty_answers(extract_answers_texts(row['answers']))\n",
        "  return answers[random.randint(0, len(answers)-1)]\n",
        "\n",
        "\n",
        "def is_answers_contains_good_answer(answers):\n",
        "  return 1 in extract_answers_labels(answers)\n",
        "\n",
        "\n",
        "def create_pair(question, answer, label):\n",
        "  return {\n",
        "      \"question\": question,\n",
        "      \"answer\": answer,\n",
        "      \"label\": label\n",
        "  }"
      ],
      "metadata": {
        "id": "vWt_NHF-MbAm"
      },
      "execution_count": null,
      "outputs": []
    },
    {
      "cell_type": "code",
      "source": [
        "#json_to_check = json.load(open(\"/content/qa_fine_tune.json\"))\n",
        "labeled_pairs = []\n",
        "\n",
        "#for row in json_to_check:\n",
        " # pairs = row['pairs']\n",
        " # if len(pairs) == 0:\n",
        " #   continue\n",
        " # for pair in pairs:\n",
        " #   pair['question'] = pair['question'].lower()\n",
        " #   pair['answer'] = pair['answer'].lower()\n",
        " # labeled_pairs.extend(pairs)\n",
        "\n",
        "jsn = json.load(open(\"/content/drive/MyDrive/ML/ee66fe54-da44-411e-a67e-19bacd205646.json\"))\n",
        "\n",
        "for row in jsn:\n",
        "  question = row['question']['text']\n",
        "  answers = row['answers']\n",
        "  if not is_answers_contains_good_answer(answers):\n",
        "    continue\n",
        "  neg_answer = None\n",
        "  pos_answer = None\n",
        "  for answer_row in filter_empty_answer_rows(row['answers']):\n",
        "    if neg_answer == None and answer_row['is_good_answer'] == 0:\n",
        "      neg_answer = answer_row['text']\n",
        "    if pos_answer == None and answer_row['is_good_answer'] == 1:\n",
        "      pos_answer = answer_row['text']\n",
        "  if pos_answer != None:\n",
        "    #labeled_pairs.append(create_pair(question, pos_answer, 1))\n",
        "    pos_pair = create_pair(question, pos_answer, 1)\n",
        "    neg_pair = None\n",
        "    if neg_answer == None:\n",
        "      #labeled_pairs.append(create_pair(question, get_random_answer_text(jsn), 0))\n",
        "      neg_pair = create_pair(question, get_random_answer_text(jsn), 0)\n",
        "    else:\n",
        "      #labeled_pairs.append(create_pair(question, neg_answer, 0))\n",
        "      neg_pair = create_pair(question, neg_answer, 0)\n",
        "    labeled_pairs.append({'pos': pos_pair, 'neg': neg_pair})\n",
        "\n",
        "train_pairs, test_pairs = train_test_split(labeled_pairs, train_size=0.7)\n",
        "\n",
        "train_pairs_flat = []\n",
        "test_pairs_flat = []\n",
        "for row in train_pairs:\n",
        "  train_pairs_flat.append(row['pos'])\n",
        "  train_pairs_flat.append(row['neg'])\n",
        "for row in test_pairs:\n",
        "  test_pairs_flat.append(row['pos'])\n",
        "  test_pairs_flat.append(row['neg'])\n",
        "\n",
        "#js_df = pd.read_json(json.dumps(labeled_pairs))\n",
        "#js_df.to_csv('to_check.csv')"
      ],
      "metadata": {
        "id": "8itaishrJKWz"
      },
      "execution_count": null,
      "outputs": []
    },
    {
      "cell_type": "code",
      "source": [
        "#data_to_check = pd.read_csv(\"to_check.csv\")\n",
        "#print(data_to_check.head())\n",
        "#print(len(data_to_check))"
      ],
      "metadata": {
        "id": "rUqSmfHELruH"
      },
      "execution_count": null,
      "outputs": []
    },
    {
      "cell_type": "code",
      "source": [
        "#_data_to_check = data_to_check.copy().dropna(subset=['question', 'answer', 'label'])\n",
        "\n",
        "#_train, _test = train_test_split(_data_to_check.copy(), train_size=0.7)\n",
        "_train = pd.read_json(json.dumps(train_pairs_flat))\n",
        "_test = pd.read_json(json.dumps(test_pairs_flat))\n",
        "_data_labels_train = _train['label']\n",
        "_data_features1_train = _train['question'].apply(normalize)\n",
        "_data_features2_train = _train['answer'].apply(normalize)\n",
        "\n",
        "_data_labels_test = _test['label']\n",
        "_data_features1_test = _test['question'].apply(normalize)\n",
        "_data_features2_test = _test['answer'].apply(normalize)"
      ],
      "metadata": {
        "id": "rM9mTgsPSnxt"
      },
      "execution_count": null,
      "outputs": []
    },
    {
      "cell_type": "code",
      "source": [
        "# qa_dataset = tf.data.Dataset.from_tensor_slices(({'input_q': data_to_check_features1, 'input_a': data_to_check_features2}, data_to_check_labels))\n",
        "# qa_dataset"
      ],
      "metadata": {
        "id": "Za790Nl9SmYS"
      },
      "execution_count": null,
      "outputs": []
    },
    {
      "cell_type": "code",
      "source": [
        "# Shuffle the dataset\n",
        "# qa_dataset = qa_dataset.shuffle(buffer_size=len(data_features))\n",
        "#enc_dataset = enc_dataset.shuffle(buffer_size=len(data_features))\n",
        "\n",
        "# Split the dataset into training and testing sets\n",
        "_train_dataset = tf.data.Dataset.from_tensor_slices(({'input_q': _data_features1_train, 'input_a': _data_features2_train}, _data_labels_train))\n",
        "\n",
        "# Batch the training and testing datasets\n",
        "batch_size = 8\n",
        "\n",
        "enc_dataset = enc_dataset.batch(batch_size)\n",
        "\n",
        "_train_dataset = _train_dataset.batch(batch_size)\n",
        "\n",
        "_test_dataset = tf.data.Dataset.from_tensor_slices(({'input_q': _data_features1_test, 'input_a': _data_features2_test}, _data_labels_test))\n",
        "\n",
        "_test_dataset = _test_dataset.batch(batch_size)\n",
        "_steps_per_epoch = len(_train_dataset)\n",
        "print(f\"steps_per_epoch: {_steps_per_epoch}\")\n",
        "print(f\"train_dataset: {len(_train_dataset)}\")\n",
        "print(f\"test_dataset: {len(_test_dataset)}\")"
      ],
      "metadata": {
        "colab": {
          "base_uri": "https://localhost:8080/"
        },
        "id": "uSGq3_uVT55b",
        "outputId": "900b585c-b483-475e-f77f-4f7851564405"
      },
      "execution_count": null,
      "outputs": [
        {
          "output_type": "stream",
          "name": "stdout",
          "text": [
            "steps_per_epoch: 27\n",
            "train_dataset: 27\n",
            "test_dataset: 12\n"
          ]
        }
      ]
    },
    {
      "cell_type": "code",
      "source": [
        "test_loss, test_pre, test_recc, test_acc = model.evaluate(_test_dataset)"
      ],
      "metadata": {
        "colab": {
          "base_uri": "https://localhost:8080/"
        },
        "id": "-sQ1eeurb_hy",
        "outputId": "7c9a34f2-d6ef-49d3-f825-7ebc5fec5269"
      },
      "execution_count": null,
      "outputs": [
        {
          "output_type": "stream",
          "name": "stdout",
          "text": [
            "12/12 [==============================] - 8s 30ms/step - loss: 0.6935 - precision_1: 0.4943 - recall_1: 0.9348 - binary_accuracy: 0.4891\n"
          ]
        }
      ]
    },
    {
      "cell_type": "code",
      "source": [
        "from sklearn.metrics import classification_report\n",
        "\n",
        "predictions = model.predict((np.array(_data_features1_test), np.array(_data_features2_test)))\n",
        "\n",
        "target_names = ['NO', 'GOOD']\n",
        "print(classification_report(_data_labels_test, get_real_preds(predictions), target_names=target_names))"
      ],
      "metadata": {
        "colab": {
          "base_uri": "https://localhost:8080/"
        },
        "id": "A_k70wJC2XKA",
        "outputId": "d6bc15d4-c608-451c-e127-83edab0f4ece"
      },
      "execution_count": null,
      "outputs": [
        {
          "output_type": "stream",
          "name": "stdout",
          "text": [
            "3/3 [==============================] - 0s 74ms/step\n",
            "              precision    recall  f1-score   support\n",
            "\n",
            "          NO       0.40      0.04      0.08        46\n",
            "        GOOD       0.49      0.93      0.65        46\n",
            "\n",
            "    accuracy                           0.49        92\n",
            "   macro avg       0.45      0.49      0.36        92\n",
            "weighted avg       0.45      0.49      0.36        92\n",
            "\n"
          ]
        }
      ]
    },
    {
      "cell_type": "code",
      "source": [
        "_checkpoint_path = 'training_2/cp.ckpt'\n",
        "_cp_callback = tf.keras.callbacks.ModelCheckpoint(filepath=_checkpoint_path,\n",
        "                                                 save_weights_only=True,\n",
        "                                                 save_best_only=True,\n",
        "                                                 verbose=1,\n",
        "                                                 monitor='val_loss')\n",
        "_es_callback = tf.keras.callbacks.EarlyStopping(\n",
        "    monitor='val_loss',\n",
        "    min_delta=0,\n",
        "    patience=3,\n",
        "    verbose=0,\n",
        "    mode='auto',\n",
        "    baseline=None,\n",
        "    restore_best_weights=False\n",
        ")"
      ],
      "metadata": {
        "id": "-2xl5J_tbs7t"
      },
      "execution_count": null,
      "outputs": []
    },
    {
      "cell_type": "code",
      "source": [
        "model.compile(loss=tf.keras.losses.BinaryCrossentropy(),\n",
        "              optimizer=tf.keras.optimizers.Adam(1e-4),\n",
        "              metrics=[tf.keras.metrics.Precision(), tf.keras.metrics.Recall(), tf.keras.metrics.BinaryAccuracy()])"
      ],
      "metadata": {
        "id": "Bt-cdZOBSQ51"
      },
      "execution_count": null,
      "outputs": []
    },
    {
      "cell_type": "code",
      "source": [
        "history = model.fit(_train_dataset, epochs=20,\n",
        "                    validation_data=_test_dataset,\n",
        "                    batch_size=batch_size, callbacks=[_cp_callback, _es_callback])"
      ],
      "metadata": {
        "colab": {
          "base_uri": "https://localhost:8080/"
        },
        "id": "gBg11vEsnxET",
        "outputId": "86c8867e-cd23-44c8-caff-b16e2826b591"
      },
      "execution_count": null,
      "outputs": [
        {
          "output_type": "stream",
          "name": "stdout",
          "text": [
            "Epoch 1/20\n",
            "27/27 [==============================] - ETA: 0s - loss: 0.6842 - precision_2: 0.5398 - recall_2: 0.9048 - binary_accuracy: 0.5667\n",
            "Epoch 1: val_loss improved from inf to 0.68555, saving model to training_2/cp.ckpt\n",
            "27/27 [==============================] - 37s 408ms/step - loss: 0.6842 - precision_2: 0.5398 - recall_2: 0.9048 - binary_accuracy: 0.5667 - val_loss: 0.6855 - val_precision_2: 0.5846 - val_recall_2: 0.8261 - val_binary_accuracy: 0.6196\n",
            "Epoch 2/20\n",
            "27/27 [==============================] - ETA: 0s - loss: 0.6615 - precision_2: 0.6232 - recall_2: 0.8190 - binary_accuracy: 0.6619\n",
            "Epoch 2: val_loss improved from 0.68555 to 0.68337, saving model to training_2/cp.ckpt\n",
            "27/27 [==============================] - 6s 231ms/step - loss: 0.6615 - precision_2: 0.6232 - recall_2: 0.8190 - binary_accuracy: 0.6619 - val_loss: 0.6834 - val_precision_2: 0.5806 - val_recall_2: 0.7826 - val_binary_accuracy: 0.6087\n",
            "Epoch 3/20\n",
            "27/27 [==============================] - ETA: 0s - loss: 0.6374 - precision_2: 0.6200 - recall_2: 0.8857 - binary_accuracy: 0.6714\n",
            "Epoch 3: val_loss improved from 0.68337 to 0.68335, saving model to training_2/cp.ckpt\n",
            "27/27 [==============================] - 5s 200ms/step - loss: 0.6374 - precision_2: 0.6200 - recall_2: 0.8857 - binary_accuracy: 0.6714 - val_loss: 0.6834 - val_precision_2: 0.5606 - val_recall_2: 0.8043 - val_binary_accuracy: 0.5870\n",
            "Epoch 4/20\n",
            "27/27 [==============================] - ETA: 0s - loss: 0.6175 - precision_2: 0.6547 - recall_2: 0.8667 - binary_accuracy: 0.7048\n",
            "Epoch 4: val_loss improved from 0.68335 to 0.68232, saving model to training_2/cp.ckpt\n",
            "27/27 [==============================] - 6s 217ms/step - loss: 0.6175 - precision_2: 0.6547 - recall_2: 0.8667 - binary_accuracy: 0.7048 - val_loss: 0.6823 - val_precision_2: 0.5873 - val_recall_2: 0.8043 - val_binary_accuracy: 0.6196\n",
            "Epoch 5/20\n",
            "27/27 [==============================] - ETA: 0s - loss: 0.5776 - precision_2: 0.6739 - recall_2: 0.8857 - binary_accuracy: 0.7286\n",
            "Epoch 5: val_loss did not improve from 0.68232\n",
            "27/27 [==============================] - 5s 188ms/step - loss: 0.5776 - precision_2: 0.6739 - recall_2: 0.8857 - binary_accuracy: 0.7286 - val_loss: 0.6878 - val_precision_2: 0.5606 - val_recall_2: 0.8043 - val_binary_accuracy: 0.5870\n",
            "Epoch 6/20\n",
            "27/27 [==============================] - ETA: 0s - loss: 0.5427 - precision_2: 0.7239 - recall_2: 0.9238 - binary_accuracy: 0.7857\n",
            "Epoch 6: val_loss did not improve from 0.68232\n",
            "27/27 [==============================] - 5s 167ms/step - loss: 0.5427 - precision_2: 0.7239 - recall_2: 0.9238 - binary_accuracy: 0.7857 - val_loss: 0.6965 - val_precision_2: 0.5645 - val_recall_2: 0.7609 - val_binary_accuracy: 0.5870\n",
            "Epoch 7/20\n",
            "27/27 [==============================] - ETA: 0s - loss: 0.4996 - precision_2: 0.7724 - recall_2: 0.9048 - binary_accuracy: 0.8190\n",
            "Epoch 7: val_loss did not improve from 0.68232\n",
            "27/27 [==============================] - 6s 234ms/step - loss: 0.4996 - precision_2: 0.7724 - recall_2: 0.9048 - binary_accuracy: 0.8190 - val_loss: 0.7199 - val_precision_2: 0.5833 - val_recall_2: 0.7609 - val_binary_accuracy: 0.6087\n"
          ]
        }
      ]
    },
    {
      "cell_type": "code",
      "source": [
        "model.load_weights(_checkpoint_path)\n",
        "model.compile(loss=tf.keras.losses.BinaryCrossentropy(),\n",
        "              optimizer=tf.keras.optimizers.Adam(1e-4),\n",
        "              metrics=[tf.keras.metrics.Precision(), tf.keras.metrics.Recall(), tf.keras.metrics.BinaryAccuracy()])\n",
        "\n",
        "test_loss, test_pre, test_recc, test_acc = model.evaluate(_test_dataset)\n",
        "\n",
        "print('Test Loss:', test_loss)\n",
        "print('Test Accuracy:', test_acc)\n",
        "print('Test Precision:', test_pre)\n",
        "print('Test Recall:', test_recc)\n",
        "\n",
        "plt.figure(figsize=(16, 8))\n",
        "plt.subplot(1, 2, 1)\n",
        "plot_graphs(history, 'binary_accuracy')\n",
        "plt.ylim(None, 1)\n",
        "plt.subplot(1, 2, 2)\n",
        "plot_graphs(history, 'loss')\n",
        "plt.ylim(0, None)"
      ],
      "metadata": {
        "colab": {
          "base_uri": "https://localhost:8080/",
          "height": 812
        },
        "id": "vZUs-l4qn0YV",
        "outputId": "36d67648-af6e-4aa8-eecf-2cc8eba51c99"
      },
      "execution_count": null,
      "outputs": [
        {
          "output_type": "stream",
          "name": "stdout",
          "text": [
            "12/12 [==============================] - 7s 12ms/step - loss: 0.6823 - precision_3: 0.5873 - recall_3: 0.8043 - binary_accuracy: 0.6196\n",
            "Test Loss: 0.6823219060897827\n",
            "Test Accuracy: 0.6195651888847351\n",
            "Test Precision: 0.5873016119003296\n",
            "Test Recall: 0.804347813129425\n"
          ]
        },
        {
          "output_type": "execute_result",
          "data": {
            "text/plain": [
              "(0.0, 0.7308861508965492)"
            ]
          },
          "metadata": {},
          "execution_count": 47
        },
        {
          "output_type": "display_data",
          "data": {
            "text/plain": [
              "<Figure size 1600x800 with 2 Axes>"
            ],
            "image/png": "[encoded data removed]"
          },
          "metadata": {}
        }
      ]
    },
    {
      "cell_type": "code",
      "source": [
        "question = [normalize('Добрый день, у меня пробный месяц. Не работает синхронизация со Сбербанком и Промсвязьбанком. Это потому что пробная подписка или это в принципе у всех сбой?'),\n",
        "            normalize('Добрый день, у меня пробный месяц. Не работает синхронизация со Сбербанком и Промсвязьбанком. Это потому что пробная подписка или это в принципе у всех сбой?')]\n",
        "answer = [normalize('синхронизация со Сбербанком и Промсвязьбанком не зависит от подписки. не у всех сбой.'.lower()),\n",
        "          normalize('Я раздумываю над платной подпиской только из-за того, что есть синхронизация с банками. То есть вначале работала, а потом перестала. Нужно все переустановить?')]\n",
        "\n",
        "print(question)\n",
        "print(answer)\n",
        "\n",
        "predictions = model.predict((np.array(question), np.array(answer)))\n",
        "print(predictions)"
      ],
      "metadata": {
        "colab": {
          "base_uri": "https://localhost:8080/"
        },
        "id": "IlX1ZQbroUAD",
        "outputId": "b56b5a50-f72a-493c-fb55-5826ef9e77b2"
      },
      "execution_count": null,
      "outputs": [
        {
          "output_type": "stream",
          "name": "stdout",
          "text": [
            "['добрый день пробный месяц работать синхронизация сбербанк промсвязьбанк это пробный подписка это принцип сбой', 'добрый день пробный месяц работать синхронизация сбербанк промсвязьбанк это пробный подписка это принцип сбой']\n",
            "['синхронизация сбербанк промсвязьбанк зависеть подписка сбой', 'раздумывать платный подписка синхронизация банк вначале работать перестать нужно переустановить']\n",
            "1/1 [==============================] - 10s 10s/step\n",
            "[[0.5273482 ]\n",
            " [0.45733157]]\n"
          ]
        }
      ]
    },
    {
      "cell_type": "code",
      "source": [
        "predictions = model.predict((np.array(_data_features1_test), np.array(_data_features2_test)))\n",
        "Y_pred = get_real_preds(predictions)\n",
        "print(Y_pred)"
      ],
      "metadata": {
        "colab": {
          "base_uri": "https://localhost:8080/"
        },
        "id": "EjiL_ok7WgtZ",
        "outputId": "58d456f6-b904-489c-a6f8-b53a621d0c5f"
      },
      "execution_count": null,
      "outputs": [
        {
          "output_type": "stream",
          "name": "stdout",
          "text": [
            "3/3 [==============================] - 0s 22ms/step\n",
            "[1 0 1 1 1 1 1 1 1 0 0 1 1 0 1 1 1 0 1 1 1 0 0 0 1 0 1 1 1 1 1 1 1 0 1 1 1\n",
            " 0 1 1 0 0 0 1 1 0 1 1 1 0 0 1 1 1 1 1 1 0 1 1 1 1 1 0 0 0 1 0 0 0 1 1 1 1\n",
            " 0 0 0 0 1 1 1 1 1 1 1 1 1 1 1 1 1 0]\n"
          ]
        }
      ]
    },
    {
      "cell_type": "code",
      "source": [
        "from sklearn.metrics import f1_score, precision_score, recall_score\n",
        "\n",
        "print(precision_score(_data_labels_test, Y_pred , average=\"macro\"))\n",
        "print(recall_score(_data_labels_test, Y_pred , average=\"macro\"))\n",
        "print(f1_score(_data_labels_test, Y_pred , average=\"macro\"))"
      ],
      "metadata": {
        "colab": {
          "base_uri": "https://localhost:8080/"
        },
        "id": "3Xy_vU3yXAXd",
        "outputId": "c0b28d18-d32f-4715-ba05-82ebdb0fcc30"
      },
      "execution_count": null,
      "outputs": [
        {
          "output_type": "stream",
          "name": "stdout",
          "text": [
            "0.6384783798576903\n",
            "0.6195652173913043\n",
            "0.6061162079510702\n"
          ]
        }
      ]
    },
    {
      "cell_type": "code",
      "source": [
        "from sklearn.metrics import confusion_matrix, ConfusionMatrixDisplay\n",
        "import matplotlib.pyplot as plt\n",
        "\n",
        "cm_real = confusion_matrix(_data_labels_test, Y_pred, labels=[0, 1])\n",
        "disp = ConfusionMatrixDisplay(confusion_matrix=cm_real, display_labels=[0, 1])\n",
        "disp.plot()\n",
        "plt.show()"
      ],
      "metadata": {
        "colab": {
          "base_uri": "https://localhost:8080/",
          "height": 449
        },
        "id": "XCjZ3ig8CH4q",
        "outputId": "bc87979d-5a09-4e86-fa29-3dadb60988e6"
      },
      "execution_count": null,
      "outputs": [
        {
          "output_type": "display_data",
          "data": {
            "text/plain": [
              "<Figure size 640x480 with 2 Axes>"
            ],
            "image/png": "[encoded data removed]"
          },
          "metadata": {}
        }
      ]
    },
    {
      "cell_type": "code",
      "source": [
        "from sklearn.metrics import classification_report\n",
        "\n",
        "target_names = ['NO', 'GOOD']\n",
        "print(classification_report(_data_labels_test, Y_pred, target_names=target_names))"
      ],
      "metadata": {
        "colab": {
          "base_uri": "https://localhost:8080/"
        },
        "id": "MEtLo-pDCUpy",
        "outputId": "97bfb4e0-e0b8-4629-e8d3-7e494ac6bd7c"
      },
      "execution_count": null,
      "outputs": [
        {
          "output_type": "stream",
          "name": "stdout",
          "text": [
            "              precision    recall  f1-score   support\n",
            "\n",
            "          NO       0.69      0.43      0.53        46\n",
            "        GOOD       0.59      0.80      0.68        46\n",
            "\n",
            "    accuracy                           0.62        92\n",
            "   macro avg       0.64      0.62      0.61        92\n",
            "weighted avg       0.64      0.62      0.61        92\n",
            "\n"
          ]
        }
      ]
    }
  ]
}