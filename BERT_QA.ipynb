{
  "cells": [
    {
      "cell_type": "code",
      "execution_count": null,
      "metadata": {
        "colab": {
          "base_uri": "https://localhost:8080/"
        },
        "id": "ZiItaLrBQlMf",
        "outputId": "5e572d79-e0eb-44fc-ccf1-d9dc8835a282"
      },
      "outputs": [
        {
          "output_type": "execute_result",
          "data": {
            "text/plain": [
              "['Looking in indexes: https://pypi.org/simple, https://us-python.pkg.dev/colab-wheels/public/simple/',\n",
              " 'Requirement already satisfied: transformers in /usr/local/lib/python3.10/dist-packages (4.30.1)',\n",
              " 'Requirement already satisfied: datasets in /usr/local/lib/python3.10/dist-packages (2.12.0)',\n",
              " 'Requirement already satisfied: evaluate in /usr/local/lib/python3.10/dist-packages (0.4.0)',\n",
              " 'Requirement already satisfied: filelock in /usr/local/lib/python3.10/dist-packages (from transformers) (3.12.0)',\n",
              " 'Requirement already satisfied: huggingface-hub<1.0,>=0.14.1 in /usr/local/lib/python3.10/dist-packages (from transformers) (0.15.1)',\n",
              " 'Requirement already satisfied: numpy>=1.17 in /usr/local/lib/python3.10/dist-packages (from transformers) (1.22.4)',\n",
              " 'Requirement already satisfied: packaging>=20.0 in /usr/local/lib/python3.10/dist-packages (from transformers) (23.1)',\n",
              " 'Requirement already satisfied: pyyaml>=5.1 in /usr/local/lib/python3.10/dist-packages (from transformers) (6.0)',\n",
              " 'Requirement already satisfied: regex!=2019.12.17 in /usr/local/lib/python3.10/dist-packages (from transformers) (2022.10.31)',\n",
              " 'Requirement already satisfied: requests in /usr/local/lib/python3.10/dist-packages (from transformers) (2.27.1)',\n",
              " 'Requirement already satisfied: tokenizers!=0.11.3,<0.14,>=0.11.1 in /usr/local/lib/python3.10/dist-packages (from transformers) (0.13.3)',\n",
              " 'Requirement already satisfied: safetensors>=0.3.1 in /usr/local/lib/python3.10/dist-packages (from transformers) (0.3.1)',\n",
              " 'Requirement already satisfied: tqdm>=4.27 in /usr/local/lib/python3.10/dist-packages (from transformers) (4.65.0)',\n",
              " 'Requirement already satisfied: pyarrow>=8.0.0 in /usr/local/lib/python3.10/dist-packages (from datasets) (9.0.0)',\n",
              " 'Requirement already satisfied: dill<0.3.7,>=0.3.0 in /usr/local/lib/python3.10/dist-packages (from datasets) (0.3.6)',\n",
              " 'Requirement already satisfied: pandas in /usr/local/lib/python3.10/dist-packages (from datasets) (1.5.3)',\n",
              " 'Requirement already satisfied: xxhash in /usr/local/lib/python3.10/dist-packages (from datasets) (3.2.0)',\n",
              " 'Requirement already satisfied: multiprocess in /usr/local/lib/python3.10/dist-packages (from datasets) (0.70.14)',\n",
              " 'Requirement already satisfied: fsspec[http]>=2021.11.1 in /usr/local/lib/python3.10/dist-packages (from datasets) (2023.4.0)',\n",
              " 'Requirement already satisfied: aiohttp in /usr/local/lib/python3.10/dist-packages (from datasets) (3.8.4)',\n",
              " 'Requirement already satisfied: responses<0.19 in /usr/local/lib/python3.10/dist-packages (from datasets) (0.18.0)',\n",
              " 'Requirement already satisfied: attrs>=17.3.0 in /usr/local/lib/python3.10/dist-packages (from aiohttp->datasets) (23.1.0)',\n",
              " 'Requirement already satisfied: charset-normalizer<4.0,>=2.0 in /usr/local/lib/python3.10/dist-packages (from aiohttp->datasets) (2.0.12)',\n",
              " 'Requirement already satisfied: multidict<7.0,>=4.5 in /usr/local/lib/python3.10/dist-packages (from aiohttp->datasets) (6.0.4)',\n",
              " 'Requirement already satisfied: async-timeout<5.0,>=4.0.0a3 in /usr/local/lib/python3.10/dist-packages (from aiohttp->datasets) (4.0.2)',\n",
              " 'Requirement already satisfied: yarl<2.0,>=1.0 in /usr/local/lib/python3.10/dist-packages (from aiohttp->datasets) (1.9.2)',\n",
              " 'Requirement already satisfied: frozenlist>=1.1.1 in /usr/local/lib/python3.10/dist-packages (from aiohttp->datasets) (1.3.3)',\n",
              " 'Requirement already satisfied: aiosignal>=1.1.2 in /usr/local/lib/python3.10/dist-packages (from aiohttp->datasets) (1.3.1)',\n",
              " 'Requirement already satisfied: typing-extensions>=3.7.4.3 in /usr/local/lib/python3.10/dist-packages (from huggingface-hub<1.0,>=0.14.1->transformers) (4.5.0)',\n",
              " 'Requirement already satisfied: urllib3<1.27,>=1.21.1 in /usr/local/lib/python3.10/dist-packages (from requests->transformers) (1.26.15)',\n",
              " 'Requirement already satisfied: certifi>=2017.4.17 in /usr/local/lib/python3.10/dist-packages (from requests->transformers) (2022.12.7)',\n",
              " 'Requirement already satisfied: idna<4,>=2.5 in /usr/local/lib/python3.10/dist-packages (from requests->transformers) (3.4)',\n",
              " 'Requirement already satisfied: python-dateutil>=2.8.1 in /usr/local/lib/python3.10/dist-packages (from pandas->datasets) (2.8.2)',\n",
              " 'Requirement already satisfied: pytz>=2020.1 in /usr/local/lib/python3.10/dist-packages (from pandas->datasets) (2022.7.1)',\n",
              " 'Requirement already satisfied: six>=1.5 in /usr/local/lib/python3.10/dist-packages (from python-dateutil>=2.8.1->pandas->datasets) (1.16.0)']"
            ]
          },
          "metadata": {},
          "execution_count": 1
        }
      ],
      "source": [
        "!! pip install transformers datasets evaluate"
      ]
    },
    {
      "cell_type": "code",
      "execution_count": null,
      "metadata": {
        "colab": {
          "base_uri": "https://localhost:8080/"
        },
        "id": "ZslTz3TtgCbQ",
        "outputId": "ad02b270-92c7-4712-9b83-7de476876ae4"
      },
      "outputs": [
        {
          "output_type": "stream",
          "name": "stdout",
          "text": [
            "Drive already mounted at /content/drive/; to attempt to forcibly remount, call drive.mount(\"/content/drive/\", force_remount=True).\n",
            "['backbone_labeled.json', 'backbone_labeled1.json', 'qa_labeled1.json', 'backbone_labeled2.json', 'qa_labeled.json', 'ee66fe54-da44-411e-a67e-19bacd205646.json']\n"
          ]
        }
      ],
      "source": [
        "from google.colab import drive\n",
        "drive.mount('/content/drive/')\n",
        "\n",
        "import os\n",
        "#Change the current working directory to the path of Google Cloud Drive\n",
        "path=\"/content/drive/MyDrive/ML\"\n",
        "os.chdir(path)\n",
        "print(os.listdir(path))\n",
        "os.chdir('/content')"
      ]
    },
    {
      "cell_type": "code",
      "execution_count": null,
      "metadata": {
        "id": "bS0vyxCb1EnZ"
      },
      "outputs": [],
      "source": [
        "id2label = {0: \"NOT AN ANSWER\", 1: \"ANSWER\"}\n",
        "label2id = {\"NOT AN ANSWER\": 0, \"ANSWER\": 1}"
      ]
    },
    {
      "cell_type": "code",
      "execution_count": null,
      "metadata": {
        "id": "FXmmfdnt1dGS"
      },
      "outputs": [],
      "source": [
        "from transformers import AutoTokenizer\n",
        "\n",
        "tokenizer = AutoTokenizer.from_pretrained(\"ai-forever/sbert_large_mt_nlu_ru\")"
      ]
    },
    {
      "cell_type": "code",
      "execution_count": null,
      "metadata": {
        "id": "BNgKZVsU1mTl"
      },
      "outputs": [],
      "source": [
        "def preprocess_qa_data_function(data):\n",
        "    return tokenizer(data['question'], data['answer'], truncation=True, max_length=128, padding=\"max_length\")"
      ]
    },
    {
      "cell_type": "code",
      "execution_count": null,
      "metadata": {
        "id": "39Q81gGTYnWN"
      },
      "outputs": [],
      "source": [
        "import random\n",
        "\n",
        "def extract_answer_text(answer):\n",
        "  return answer['text']\n",
        "\n",
        "\n",
        "def extract_answer_label(answer):\n",
        "  return answer['is_good_answer']\n",
        "\n",
        "\n",
        "def extract_answers_texts(answers):\n",
        "  return list(map(extract_answer_text, answers))\n",
        "\n",
        "\n",
        "def extract_answers_labels(answers):\n",
        "  return list(map(extract_answer_label, answers))\n",
        "\n",
        "\n",
        "def is_not_empty_str(line):\n",
        "  return line.strip() != ''\n",
        "\n",
        "\n",
        "def is_not_empty_answer_row(row):\n",
        "  return row['text'].strip() != ''\n",
        "\n",
        "\n",
        "def filter_empty_answers(answers):\n",
        "  return list(filter(is_not_empty_str, answers))\n",
        "\n",
        "\n",
        "def filter_empty_answer_rows(answers):\n",
        "  return list(filter(is_not_empty_answer_row, answers))\n",
        "\n",
        "\n",
        "def check_answers_correct(answers):\n",
        "  return len(filter_empty_answers(answers)) != 0\n",
        "\n",
        "\n",
        "def get_random_answer_text(data_json):\n",
        "  random_q = random.randint(0, len(data_json)-1)\n",
        "  row = data_json[random_q]\n",
        "  if not check_answers_correct(extract_answers_texts(row['answers'])):\n",
        "    return get_random_answer_text(data_json)\n",
        "  answers = filter_empty_answers(extract_answers_texts(row['answers']))\n",
        "  return answers[random.randint(0, len(answers)-1)]\n",
        "\n",
        "\n",
        "def is_answers_contains_good_answer(answers):\n",
        "  return 1 in extract_answers_labels(answers)\n",
        "\n",
        "\n",
        "def create_pair(question, answer, label):\n",
        "  return {\n",
        "      \"question\": question,\n",
        "      \"answer\": answer,\n",
        "      \"label\": label\n",
        "  }\n"
      ]
    },
    {
      "cell_type": "code",
      "execution_count": null,
      "metadata": {
        "id": "QABtlOCP0T1S"
      },
      "outputs": [],
      "source": [
        "import json\n",
        "import pandas as pd\n",
        "from sklearn.model_selection import train_test_split\n",
        "\n",
        "#json_to_check = json.load(open(\"/content/qa_fine_tune.json\"))\n",
        "\n",
        "labeled_pairs = []\n",
        "\n",
        "#for row in json_to_check:\n",
        "#  pairs = row['pairs']\n",
        "#  if len(pairs) == 0:\n",
        "#    continue\n",
        "#  pos_pair = None\n",
        "#  neg_pair = None\n",
        "#  for pair in pairs:\n",
        "#    pair['question'] = pair['question'].lower()\n",
        "#    pair['answer'] = pair['answer'].lower()\n",
        "#    if neg_pair == None and pair['label'] == 0:\n",
        "#      neg_pair = pair\n",
        "#    if pos_pair == None and pair['label'] == 1:\n",
        "#      pos_pair = pair\n",
        "#  if pos_pair != None and neg_pair != None:\n",
        "#    labeled_pairs.append(pos_pair)\n",
        "#  if pos_pair != None and neg_pair != None:\n",
        "#    labeled_pairs.append(neg_pair)\n",
        "\n",
        "jsn = json.load(open(\"/content/drive/MyDrive/ML/ee66fe54-da44-411e-a67e-19bacd205646.json\"))\n",
        "\n",
        "for row in jsn:\n",
        "  question = row['question']['text']\n",
        "  answers = row['answers']\n",
        "  if not is_answers_contains_good_answer(answers):\n",
        "    continue\n",
        "  neg_answer = None\n",
        "  pos_answer = None\n",
        "  for answer_row in filter_empty_answer_rows(row['answers']):\n",
        "    if neg_answer == None and answer_row['is_good_answer'] == 0:\n",
        "      neg_answer = answer_row['text']\n",
        "    if pos_answer == None and answer_row['is_good_answer'] == 1:\n",
        "      pos_answer = answer_row['text']\n",
        "  if pos_answer != None:\n",
        "    #labeled_pairs.append(create_pair(question, pos_answer, 1))\n",
        "    pos_pair = create_pair(question, pos_answer, 1)\n",
        "    neg_pair = None\n",
        "    if neg_answer == None:\n",
        "      #labeled_pairs.append(create_pair(question, get_random_answer_text(jsn), 0))\n",
        "      neg_pair = create_pair(question, get_random_answer_text(jsn), 0)\n",
        "    else:\n",
        "      #labeled_pairs.append(create_pair(question, neg_answer, 0))\n",
        "      neg_pair = create_pair(question, neg_answer, 0)\n",
        "    labeled_pairs.append({'pos': pos_pair, 'neg': neg_pair})\n",
        "\n",
        "train_pairs, test_pairs = train_test_split(labeled_pairs, train_size=0.7, random_state=21)\n",
        "\n",
        "train_pairs_flat = []\n",
        "test_pairs_flat = []\n",
        "for row in train_pairs:\n",
        "  train_pairs_flat.append(row['pos'])\n",
        "  train_pairs_flat.append(row['neg'])\n",
        "for row in test_pairs:\n",
        "  test_pairs_flat.append(row['pos'])\n",
        "  test_pairs_flat.append(row['neg'])\n",
        "\n",
        "#js_df = pd.read_json(json.dumps(labeled_pairs))\n",
        "#js_df.to_csv('to_check.csv')"
      ]
    },
    {
      "cell_type": "code",
      "execution_count": null,
      "metadata": {
        "id": "U-yPuj3k3sOF"
      },
      "outputs": [],
      "source": [
        "#data_to_check = js_df\n",
        "#print(data_to_check.head(10))\n",
        "#print(len(data_to_check))"
      ]
    },
    {
      "cell_type": "code",
      "execution_count": null,
      "metadata": {
        "colab": {
          "base_uri": "https://localhost:8080/"
        },
        "id": "faZCIBcx3t-I",
        "outputId": "ac8807b0-89cb-4fdf-bd40-a43f0b69491d"
      },
      "outputs": [
        {
          "output_type": "stream",
          "name": "stdout",
          "text": [
            "                                            question  \\\n",
            "0  У вас на сайте выставлена такая информация о Г...   \n",
            "1  У вас на сайте выставлена такая информация о Г...   \n",
            "2  Здравствуйте, подскажите, пожалуйста. Если я п...   \n",
            "3  Здравствуйте, подскажите, пожалуйста. Если я п...   \n",
            "4  Здравствуйте. \\nСын подает документы в пять ВУ...   \n",
            "\n",
            "                                              answer  label  \n",
            "0  грант в целом дается только на год, потом его ...      1  \n",
            "1  по рейтингу за 1 курс выдаются гранты на 2 кур...      0  \n",
            "2  Если совсем другой вуз, не КФУ, то  забирать н...      1  \n",
            "3  Здравствуйте, цены на платку могут поменяться ...      0  \n",
            "4  согласие на зачисление можно подать только в 1...      1  \n",
            "                                            question  \\\n",
            "0  Для заселения из справок нужны только справка ...   \n",
            "1  Для заселения из справок нужны только справка ...   \n",
            "2  Добрый день, подскажите, пожалуйста, почему ещ...   \n",
            "3  Добрый день, подскажите, пожалуйста, почему ещ...   \n",
            "4  Здравствуйте! Если я не ошибаюсь, с этого года...   \n",
            "\n",
            "                                              answer  label  \n",
            "0                                       Флюорография      1  \n",
            "1  тот же вопрос, но я видел, что еще нужно флюро...      0  \n",
            "2  возможно потому что у многих абитуриентов был ...      1  \n",
            "3  Всегда пожалуйста 👌 \\nОни занимают позицию, чт...      0  \n",
            "4               На таких же условиях как и россиянам      1  \n"
          ]
        }
      ],
      "source": [
        "\n",
        "#_data_to_check = data_to_check.copy().dropna(subset=['question', 'answer', 'label'])\n",
        "\n",
        "#_train, _test = train_test_split(_data_to_check.copy(), train_size=0.7, random_state=21)\n",
        "#_data_labels_train = _train['label']\n",
        "#_data_features1_train = _train['question']\n",
        "#_data_features2_train = _train['answer']\n",
        "\n",
        "#_data_labels_test = _test['label']\n",
        "#_data_features1_test = _test['question']\n",
        "#_data_features2_test = _test['answer']\n",
        "_train = pd.read_json(json.dumps(train_pairs_flat))\n",
        "_test = pd.read_json(json.dumps(test_pairs_flat))\n",
        "print(_train.head())\n",
        "print(_test.head())"
      ]
    },
    {
      "cell_type": "code",
      "execution_count": null,
      "metadata": {
        "colab": {
          "base_uri": "https://localhost:8080/",
          "height": 92,
          "referenced_widgets": [
            "0d5f998703314ea7b24aa588359e24d1",
            "4e0b4b92070641519d6ae26754668744",
            "58b0ddb8033c467bb3248dc6a3c65782",
            "719feb970a05447b83ff43b3ed2878c6",
            "d693baea87ff42cf8f6863e6257ab2b9",
            "fe1f1e5da122451faba4c24d01399c21",
            "78b022a55261492da61b2fcb89ef30db",
            "f559106bbf6b49469673ca9e3686eccf",
            "a29de9bac3f94567afe3ffed890d9d21",
            "5afdb194a5fc4e3998d5ae12f9b5ae90",
            "a59e8bf242dd4800914e5fe1f032bfb0",
            "83e64fa5a3914bddb63d21526e6e87fa",
            "935e2e4eee254c249efd01be490cdd82",
            "f1f2ad60c0da459e957357f7db7c3363",
            "c162725e6e0448e88e04023c11c898ae",
            "841cb647476844a3ab4d2f2c4ea6c3df",
            "8c764c88671848d98b34353be5c4d14e",
            "856fef5e2c7040559b262ec02bfeda2a",
            "45943d372516449aa45a7200c5011f54",
            "48959fa13a7544cba09cfa5670098ca7",
            "1a1105f7e8ce44a6b71a10ef048e5426",
            "b108fa382a3a4503b7d562352c4f7182"
          ]
        },
        "id": "bThsVwTS0XHf",
        "outputId": "16c11569-a80b-4a0d-e51c-2343f55efee9"
      },
      "outputs": [
        {
          "output_type": "display_data",
          "data": {
            "text/plain": [
              "Map:   0%|          | 0/210 [00:00<?, ? examples/s]"
            ],
            "application/vnd.jupyter.widget-view+json": {
              "version_major": 2,
              "version_minor": 0,
              "model_id": "0d5f998703314ea7b24aa588359e24d1"
            }
          },
          "metadata": {}
        },
        {
          "output_type": "display_data",
          "data": {
            "text/plain": [
              "Map:   0%|          | 0/92 [00:00<?, ? examples/s]"
            ],
            "application/vnd.jupyter.widget-view+json": {
              "version_major": 2,
              "version_minor": 0,
              "model_id": "83e64fa5a3914bddb63d21526e6e87fa"
            }
          },
          "metadata": {}
        },
        {
          "output_type": "stream",
          "name": "stdout",
          "text": [
            "{'question': ['У вас на сайте выставлена такая информация о Гранте:\\n\"Грант предоставляется в соответствии с Подпрограммой «Государственная поддержка развития экономической среды и человеческого капитала в сфере информационных технологий в Республике Татарстан на 2014 – 2023 годы\"\\nТ.е. если в 22 году поступит на грант, то возможность учиться бесплатно только на 1 год? Или я что-то неверно поняла?', 'У вас на сайте выставлена такая информация о Гранте:\\n\"Грант предоставляется в соответствии с Подпрограммой «Государственная поддержка развития экономической среды и человеческого капитала в сфере информационных технологий в Республике Татарстан на 2014 – 2023 годы\"\\nТ.е. если в 22 году поступит на грант, то возможность учиться бесплатно только на 1 год? Или я что-то неверно поняла?', 'Здравствуйте, подскажите, пожалуйста. Если я подал к вам оригинал аттестата, могу ли я, его не забрав, подать согласие на зачисление в другой вуз ? Или обязательно нужно забирать оригинал', 'Здравствуйте, подскажите, пожалуйста. Если я подал к вам оригинал аттестата, могу ли я, его не забрав, подать согласие на зачисление в другой вуз ? Или обязательно нужно забирать оригинал', 'Здравствуйте. \\nСын подает документы в пять ВУЗов. Допустим в нескольких его принимают на обучение. Он выбирает один из них. \\nНужно ли писать какие-либо заявления в не выбранные нами ВУЗы? Отзывать какие-либо документы?'], 'answer': ['грант в целом дается только на год, потом его надо подтверждать, чтобы получить снова, на след год', 'по рейтингу за 1 курс выдаются гранты на 2 курс\\nи так далее до 4 курса', 'Если совсем другой вуз, не КФУ, то  забирать нужно. А если внутри КФУ, то перебрасывать согласия', 'Здравствуйте, цены на платку могут поменяться в следующем году? Если я сразу оплачу два курса, а потом цена на 2 курс повысится, то мне придется доплачивать или нет?', 'согласие на зачисление можно подать только в 1 из вузов.\\nтак что если подали его в один вуз, а прошли в другой, то из первого надо отозвать и во второй подать.\\nбольше никаких документов подавать/отзывать не нужно'], 'label': [1, 0, 1, 0, 1], 'input_ids': [[101, 118, 1721, 660, 798, 42699, 80780, 3661, 5964, 104, 67000, 376, 162, 152, 67000, 41404, 113, 5619, 110, 771, 78608, 73272, 151, 24664, 14282, 3507, 1718, 80069, 378, 11468, 107, 14377, 11776, 113, 6432, 21249, 8653, 113, 14804, 12315, 1915, 660, 1895, 204, 91408, 2771, 152, 109, 126, 105, 126, 1081, 113, 2473, 979, 33605, 660, 67000, 121, 696, 3003, 13831, 12837, 966, 660, 141, 1748, 161, 967, 119, 693, 133, 696, 33291, 7439, 161, 102, 67000, 113, 4614, 33604, 966, 660, 1748, 121, 1673, 806, 1595, 94763, 121, 1015, 3979, 2182, 121, 660, 3188, 1748, 102, 0, 0, 0, 0, 0, 0, 0, 0, 0, 0, 0, 0, 0, 0, 0, 0, 0, 0, 0, 0, 0, 0, 0, 0, 0, 0, 0, 0, 0, 0], [101, 118, 1721, 660, 798, 42699, 80780, 3661, 5964, 104, 67000, 376, 162, 152, 67000, 41404, 113, 5619, 110, 771, 78608, 73272, 151, 24664, 14282, 3507, 1718, 80069, 378, 11468, 107, 14377, 11776, 113, 6432, 21249, 8653, 113, 14804, 12315, 1915, 660, 1895, 204, 91408, 2771, 152, 109, 126, 105, 126, 1081, 113, 2473, 979, 33605, 660, 67000, 121, 696, 3003, 13831, 12837, 966, 660, 141, 1748, 161, 967, 119, 693, 133, 696, 33291, 7439, 161, 102, 654, 744, 33820, 37425, 681, 141, 6090, 84122, 60129, 660, 149, 6090, 107, 818, 5819, 708, 171, 8809, 102, 0, 0, 0, 0, 0, 0, 0, 0, 0, 0, 0, 0, 0, 0, 0, 0, 0, 0, 0, 0, 0, 0, 0, 0, 0, 0, 0, 0, 0, 0, 0, 0], [101, 48464, 42699, 121, 93691, 121, 10511, 28687, 715, 126, 1081, 119, 10928, 114, 1807, 43489, 98762, 377, 121, 1385, 797, 119, 121, 806, 672, 63260, 121, 14638, 15851, 660, 46625, 108135, 113, 1447, 378, 47875, 161, 967, 5997, 1885, 45745, 43489, 102, 1081, 2330, 1447, 378, 47875, 121, 672, 114, 4466, 121, 696, 45745, 1885, 126, 106, 1081, 4232, 114, 4466, 121, 696, 44607, 908, 14429, 102, 0, 0, 0, 0, 0, 0, 0, 0, 0, 0, 0, 0, 0, 0, 0, 0, 0, 0, 0, 0, 0, 0, 0, 0, 0, 0, 0, 0, 0, 0, 0, 0, 0, 0, 0, 0, 0, 0, 0, 0, 0, 0, 0, 0, 0, 0, 0, 0, 0, 0, 0, 0, 0, 0, 0, 0, 0, 0, 0, 0], [101, 48464, 42699, 121, 93691, 121, 10511, 28687, 715, 126, 1081, 119, 10928, 114, 1807, 43489, 98762, 377, 121, 1385, 797, 119, 121, 806, 672, 63260, 121, 14638, 15851, 660, 46625, 108135, 113, 1447, 378, 47875, 161, 967, 5997, 1885, 45745, 43489, 102, 48464, 42699, 121, 5445, 660, 6513, 733, 1853, 85718, 113, 8394, 979, 161, 1081, 119, 2121, 5506, 1221, 1363, 8809, 121, 106, 1673, 5970, 660, 149, 6090, 82149, 121, 696, 1098, 4338, 54813, 9542, 967, 1177, 161, 102, 0, 0, 0, 0, 0, 0, 0, 0, 0, 0, 0, 0, 0, 0, 0, 0, 0, 0, 0, 0, 0, 0, 0, 0, 0, 0, 0, 0, 0, 0, 0, 0, 0, 0, 0, 0, 0, 0, 0, 0, 0, 0, 0, 0, 0, 0, 0], [101, 48464, 42699, 126, 4762, 42300, 6416, 113, 2762, 21889, 126, 22685, 113, 3972, 806, 12924, 660, 12847, 126, 795, 31434, 1354, 734, 1303, 126, 1885, 797, 8285, 2867, 133, 2188, 7446, 113, 672, 15328, 767, 4849, 46664, 161, 19136, 673, 2867, 133, 2188, 6416, 161, 102, 15851, 660, 46625, 108135, 1232, 14638, 966, 113, 141, 734, 21889, 126, 818, 693, 1081, 20622, 806, 113, 1354, 47875, 121, 106, 6755, 113, 1447, 378, 121, 696, 734, 3718, 1595, 57343, 107, 703, 14303, 378, 14638, 126, 1344, 4029, 7589, 24537, 197, 19136, 673, 672, 1885, 102, 0, 0, 0, 0, 0, 0, 0, 0, 0, 0, 0, 0, 0, 0, 0, 0, 0, 0, 0, 0, 0, 0, 0, 0, 0, 0, 0, 0, 0, 0, 0, 0, 0]], 'token_type_ids': [[0, 0, 0, 0, 0, 0, 0, 0, 0, 0, 0, 0, 0, 0, 0, 0, 0, 0, 0, 0, 0, 0, 0, 0, 0, 0, 0, 0, 0, 0, 0, 0, 0, 0, 0, 0, 0, 0, 0, 0, 0, 0, 0, 0, 0, 0, 0, 0, 0, 0, 0, 0, 0, 0, 0, 0, 0, 0, 0, 0, 0, 0, 0, 0, 0, 0, 0, 0, 0, 0, 0, 0, 0, 0, 0, 0, 0, 1, 1, 1, 1, 1, 1, 1, 1, 1, 1, 1, 1, 1, 1, 1, 1, 1, 1, 1, 1, 1, 0, 0, 0, 0, 0, 0, 0, 0, 0, 0, 0, 0, 0, 0, 0, 0, 0, 0, 0, 0, 0, 0, 0, 0, 0, 0, 0, 0, 0, 0], [0, 0, 0, 0, 0, 0, 0, 0, 0, 0, 0, 0, 0, 0, 0, 0, 0, 0, 0, 0, 0, 0, 0, 0, 0, 0, 0, 0, 0, 0, 0, 0, 0, 0, 0, 0, 0, 0, 0, 0, 0, 0, 0, 0, 0, 0, 0, 0, 0, 0, 0, 0, 0, 0, 0, 0, 0, 0, 0, 0, 0, 0, 0, 0, 0, 0, 0, 0, 0, 0, 0, 0, 0, 0, 0, 0, 0, 1, 1, 1, 1, 1, 1, 1, 1, 1, 1, 1, 1, 1, 1, 1, 1, 1, 1, 1, 0, 0, 0, 0, 0, 0, 0, 0, 0, 0, 0, 0, 0, 0, 0, 0, 0, 0, 0, 0, 0, 0, 0, 0, 0, 0, 0, 0, 0, 0, 0, 0], [0, 0, 0, 0, 0, 0, 0, 0, 0, 0, 0, 0, 0, 0, 0, 0, 0, 0, 0, 0, 0, 0, 0, 0, 0, 0, 0, 0, 0, 0, 0, 0, 0, 0, 0, 0, 0, 0, 0, 0, 0, 0, 0, 1, 1, 1, 1, 1, 1, 1, 1, 1, 1, 1, 1, 1, 1, 1, 1, 1, 1, 1, 1, 1, 1, 1, 1, 1, 0, 0, 0, 0, 0, 0, 0, 0, 0, 0, 0, 0, 0, 0, 0, 0, 0, 0, 0, 0, 0, 0, 0, 0, 0, 0, 0, 0, 0, 0, 0, 0, 0, 0, 0, 0, 0, 0, 0, 0, 0, 0, 0, 0, 0, 0, 0, 0, 0, 0, 0, 0, 0, 0, 0, 0, 0, 0, 0, 0], [0, 0, 0, 0, 0, 0, 0, 0, 0, 0, 0, 0, 0, 0, 0, 0, 0, 0, 0, 0, 0, 0, 0, 0, 0, 0, 0, 0, 0, 0, 0, 0, 0, 0, 0, 0, 0, 0, 0, 0, 0, 0, 0, 1, 1, 1, 1, 1, 1, 1, 1, 1, 1, 1, 1, 1, 1, 1, 1, 1, 1, 1, 1, 1, 1, 1, 1, 1, 1, 1, 1, 1, 1, 1, 1, 1, 1, 1, 1, 1, 1, 0, 0, 0, 0, 0, 0, 0, 0, 0, 0, 0, 0, 0, 0, 0, 0, 0, 0, 0, 0, 0, 0, 0, 0, 0, 0, 0, 0, 0, 0, 0, 0, 0, 0, 0, 0, 0, 0, 0, 0, 0, 0, 0, 0, 0, 0, 0], [0, 0, 0, 0, 0, 0, 0, 0, 0, 0, 0, 0, 0, 0, 0, 0, 0, 0, 0, 0, 0, 0, 0, 0, 0, 0, 0, 0, 0, 0, 0, 0, 0, 0, 0, 0, 0, 0, 0, 0, 0, 0, 0, 0, 0, 0, 0, 1, 1, 1, 1, 1, 1, 1, 1, 1, 1, 1, 1, 1, 1, 1, 1, 1, 1, 1, 1, 1, 1, 1, 1, 1, 1, 1, 1, 1, 1, 1, 1, 1, 1, 1, 1, 1, 1, 1, 1, 1, 1, 1, 1, 1, 1, 1, 1, 0, 0, 0, 0, 0, 0, 0, 0, 0, 0, 0, 0, 0, 0, 0, 0, 0, 0, 0, 0, 0, 0, 0, 0, 0, 0, 0, 0, 0, 0, 0, 0, 0]], 'attention_mask': [[1, 1, 1, 1, 1, 1, 1, 1, 1, 1, 1, 1, 1, 1, 1, 1, 1, 1, 1, 1, 1, 1, 1, 1, 1, 1, 1, 1, 1, 1, 1, 1, 1, 1, 1, 1, 1, 1, 1, 1, 1, 1, 1, 1, 1, 1, 1, 1, 1, 1, 1, 1, 1, 1, 1, 1, 1, 1, 1, 1, 1, 1, 1, 1, 1, 1, 1, 1, 1, 1, 1, 1, 1, 1, 1, 1, 1, 1, 1, 1, 1, 1, 1, 1, 1, 1, 1, 1, 1, 1, 1, 1, 1, 1, 1, 1, 1, 1, 0, 0, 0, 0, 0, 0, 0, 0, 0, 0, 0, 0, 0, 0, 0, 0, 0, 0, 0, 0, 0, 0, 0, 0, 0, 0, 0, 0, 0, 0], [1, 1, 1, 1, 1, 1, 1, 1, 1, 1, 1, 1, 1, 1, 1, 1, 1, 1, 1, 1, 1, 1, 1, 1, 1, 1, 1, 1, 1, 1, 1, 1, 1, 1, 1, 1, 1, 1, 1, 1, 1, 1, 1, 1, 1, 1, 1, 1, 1, 1, 1, 1, 1, 1, 1, 1, 1, 1, 1, 1, 1, 1, 1, 1, 1, 1, 1, 1, 1, 1, 1, 1, 1, 1, 1, 1, 1, 1, 1, 1, 1, 1, 1, 1, 1, 1, 1, 1, 1, 1, 1, 1, 1, 1, 1, 1, 0, 0, 0, 0, 0, 0, 0, 0, 0, 0, 0, 0, 0, 0, 0, 0, 0, 0, 0, 0, 0, 0, 0, 0, 0, 0, 0, 0, 0, 0, 0, 0], [1, 1, 1, 1, 1, 1, 1, 1, 1, 1, 1, 1, 1, 1, 1, 1, 1, 1, 1, 1, 1, 1, 1, 1, 1, 1, 1, 1, 1, 1, 1, 1, 1, 1, 1, 1, 1, 1, 1, 1, 1, 1, 1, 1, 1, 1, 1, 1, 1, 1, 1, 1, 1, 1, 1, 1, 1, 1, 1, 1, 1, 1, 1, 1, 1, 1, 1, 1, 0, 0, 0, 0, 0, 0, 0, 0, 0, 0, 0, 0, 0, 0, 0, 0, 0, 0, 0, 0, 0, 0, 0, 0, 0, 0, 0, 0, 0, 0, 0, 0, 0, 0, 0, 0, 0, 0, 0, 0, 0, 0, 0, 0, 0, 0, 0, 0, 0, 0, 0, 0, 0, 0, 0, 0, 0, 0, 0, 0], [1, 1, 1, 1, 1, 1, 1, 1, 1, 1, 1, 1, 1, 1, 1, 1, 1, 1, 1, 1, 1, 1, 1, 1, 1, 1, 1, 1, 1, 1, 1, 1, 1, 1, 1, 1, 1, 1, 1, 1, 1, 1, 1, 1, 1, 1, 1, 1, 1, 1, 1, 1, 1, 1, 1, 1, 1, 1, 1, 1, 1, 1, 1, 1, 1, 1, 1, 1, 1, 1, 1, 1, 1, 1, 1, 1, 1, 1, 1, 1, 1, 0, 0, 0, 0, 0, 0, 0, 0, 0, 0, 0, 0, 0, 0, 0, 0, 0, 0, 0, 0, 0, 0, 0, 0, 0, 0, 0, 0, 0, 0, 0, 0, 0, 0, 0, 0, 0, 0, 0, 0, 0, 0, 0, 0, 0, 0, 0], [1, 1, 1, 1, 1, 1, 1, 1, 1, 1, 1, 1, 1, 1, 1, 1, 1, 1, 1, 1, 1, 1, 1, 1, 1, 1, 1, 1, 1, 1, 1, 1, 1, 1, 1, 1, 1, 1, 1, 1, 1, 1, 1, 1, 1, 1, 1, 1, 1, 1, 1, 1, 1, 1, 1, 1, 1, 1, 1, 1, 1, 1, 1, 1, 1, 1, 1, 1, 1, 1, 1, 1, 1, 1, 1, 1, 1, 1, 1, 1, 1, 1, 1, 1, 1, 1, 1, 1, 1, 1, 1, 1, 1, 1, 1, 0, 0, 0, 0, 0, 0, 0, 0, 0, 0, 0, 0, 0, 0, 0, 0, 0, 0, 0, 0, 0, 0, 0, 0, 0, 0, 0, 0, 0, 0, 0, 0, 0]]}\n",
            "[CLS] у вас на саите выставлена такая информация о гранте : \" грант предоставляется в соответствии с подпрограммои « государственная поддержка развития экономическои среды и человеческого капитала в сфере информационных технологии в республике татарстан на 2014 – 2023 годы \" т. е. если в 22 году поступит на грант, то возможность учиться бесплатно только на 1 год? или я что - то неверно поняла? [SEP] грант в целом дается только на год, потом его надо подтверждать, чтобы получить снова, на след год [SEP] [PAD] [PAD] [PAD] [PAD] [PAD] [PAD] [PAD] [PAD] [PAD] [PAD] [PAD] [PAD] [PAD] [PAD] [PAD] [PAD] [PAD] [PAD] [PAD] [PAD] [PAD] [PAD] [PAD] [PAD] [PAD] [PAD] [PAD] [PAD] [PAD] [PAD]\n",
            "[1, 0, 1, 0, 1, 0, 1, 0, 1, 0, 1, 0, 1, 0, 1, 0, 1, 0, 1, 0, 1, 0, 1, 0, 1, 0, 1, 0, 1, 0, 1, 0, 1, 0, 1, 0, 1, 0, 1, 0, 1, 0, 1, 0, 1, 0, 1, 0, 1, 0, 1, 0, 1, 0, 1, 0, 1, 0, 1, 0, 1, 0, 1, 0, 1, 0, 1, 0, 1, 0, 1, 0, 1, 0, 1, 0, 1, 0, 1, 0, 1, 0, 1, 0, 1, 0, 1, 0, 1, 0, 1]\n"
          ]
        }
      ],
      "source": [
        "from datasets import Dataset\n",
        "\n",
        "train_hg_dataset = Dataset.from_pandas(_train)\n",
        "test_hg_dataset = Dataset.from_pandas(_test)\n",
        "\n",
        "train_hg_dataset_tokenized = train_hg_dataset.map(preprocess_qa_data_function, batched=True)\n",
        "test_hg_dataset_tokenized = test_hg_dataset.map(preprocess_qa_data_function, batched=True)\n",
        "\n",
        "print(train_hg_dataset_tokenized[:5])\n",
        "print(tokenizer.decode(train_hg_dataset_tokenized[0][\"input_ids\"]))\n",
        "print(test_hg_dataset_tokenized[:-1]['label'])"
      ]
    },
    {
      "cell_type": "code",
      "execution_count": null,
      "metadata": {
        "id": "d2YCGpXi2DRb"
      },
      "outputs": [],
      "source": [
        "from transformers import DataCollatorWithPadding\n",
        "\n",
        "data_collator = DataCollatorWithPadding(tokenizer=tokenizer, return_tensors=\"tf\")"
      ]
    },
    {
      "cell_type": "code",
      "execution_count": null,
      "metadata": {
        "id": "7IjV9Z722Hoz"
      },
      "outputs": [],
      "source": [
        "import evaluate\n",
        "\n",
        "accuracy = evaluate.load(\"accuracy\")\n",
        "precision = evaluate.load(\"precision\")\n",
        "recall = evaluate.load(\"recall\")\n",
        "f1 = evaluate.load(\"f1\")"
      ]
    },
    {
      "cell_type": "code",
      "execution_count": null,
      "metadata": {
        "id": "itZoWuyw3cvy"
      },
      "outputs": [],
      "source": [
        "import numpy as np\n",
        "\n",
        "\n",
        "def compute_accuracy(eval_pred):\n",
        "    predictions, labels = eval_pred\n",
        "    predictions = np.argmax(predictions, axis=1)\n",
        "    return accuracy.compute(predictions=predictions, references=labels)\n",
        "\n",
        "\n",
        "def compute_precision(eval_pred):\n",
        "    predictions, labels = eval_pred\n",
        "    predictions = np.argmax(predictions, axis=1)\n",
        "    return precision.compute(predictions=predictions, references=labels)\n",
        "\n",
        "\n",
        "def compute_recall(eval_pred):\n",
        "    predictions, labels = eval_pred\n",
        "    predictions = np.argmax(predictions, axis=1)\n",
        "    return recall.compute(predictions=predictions, references=labels)\n",
        "\n",
        "\n",
        "def compute_f1(eval_pred):\n",
        "    predictions, labels = eval_pred\n",
        "    predictions = np.argmax(predictions, axis=1)\n",
        "    return f1.compute(predictions=predictions, references=labels)"
      ]
    },
    {
      "cell_type": "code",
      "execution_count": null,
      "metadata": {
        "id": "QV5m3a_70qmH"
      },
      "outputs": [],
      "source": [
        "from transformers import create_optimizer\n",
        "import tensorflow as tf\n",
        "\n",
        "batch_size = 8\n",
        "num_epochs = 3\n",
        "batches_per_epoch = len(_train) // batch_size\n",
        "total_train_steps = int(batches_per_epoch * num_epochs)\n",
        "optimizer, schedule = create_optimizer(init_lr=2e-5, num_warmup_steps=0, num_train_steps=total_train_steps)"
      ]
    },
    {
      "cell_type": "code",
      "execution_count": null,
      "metadata": {
        "colab": {
          "base_uri": "https://localhost:8080/"
        },
        "id": "ysbkJqd30_8L",
        "outputId": "702647ff-2d4c-4bec-ec46-3e952098f5db"
      },
      "outputs": [
        {
          "output_type": "stream",
          "name": "stderr",
          "text": [
            "All model checkpoint layers were used when initializing TFBertForSequenceClassification.\n",
            "\n",
            "Some layers of TFBertForSequenceClassification were not initialized from the model checkpoint at ai-forever/sbert_large_mt_nlu_ru and are newly initialized: ['classifier']\n",
            "You should probably TRAIN this model on a down-stream task to be able to use it for predictions and inference.\n"
          ]
        }
      ],
      "source": [
        "from transformers import TFAutoModelForSequenceClassification\n",
        "\n",
        "model = TFAutoModelForSequenceClassification.from_pretrained(\n",
        "    \"ai-forever/sbert_large_mt_nlu_ru\", num_labels=2, id2label=id2label, label2id=label2id\n",
        ")"
      ]
    },
    {
      "cell_type": "code",
      "execution_count": null,
      "metadata": {
        "colab": {
          "base_uri": "https://localhost:8080/"
        },
        "id": "BfwUlcCmqOFe",
        "outputId": "ec663035-29e3-4a26-a5d0-64ff4e4753ed"
      },
      "outputs": [
        {
          "output_type": "stream",
          "name": "stdout",
          "text": [
            "Model: \"tf_bert_for_sequence_classification\"\n",
            "_________________________________________________________________\n",
            " Layer (type)                Output Shape              Param #   \n",
            "=================================================================\n",
            " bert (TFBertMainLayer)      multiple                  426908672 \n",
            "                                                                 \n",
            " dropout_73 (Dropout)        multiple                  0         \n",
            "                                                                 \n",
            " classifier (Dense)          multiple                  2050      \n",
            "                                                                 \n",
            "=================================================================\n",
            "Total params: 426,910,722\n",
            "Trainable params: 426,910,722\n",
            "Non-trainable params: 0\n",
            "_________________________________________________________________\n",
            "Model: \"tf_bert_for_sequence_classification\"\n",
            "_________________________________________________________________\n",
            " Layer (type)                Output Shape              Param #   \n",
            "=================================================================\n",
            " bert (TFBertMainLayer)      multiple                  426908672 \n",
            "                                                                 \n",
            " dropout_73 (Dropout)        multiple                  0         \n",
            "                                                                 \n",
            " classifier (Dense)          multiple                  2050      \n",
            "                                                                 \n",
            "=================================================================\n",
            "Total params: 426,910,722\n",
            "Trainable params: 162,390,018\n",
            "Non-trainable params: 264,520,704\n",
            "_________________________________________________________________\n"
          ]
        }
      ],
      "source": [
        "model.summary()\n",
        "for i in range(len(model.bert.encoder.layer)):\n",
        "  model.bert.encoder.layer[i].trainable = False\n",
        "  if i == len(model.bert.encoder.layer) - 1:\n",
        "    model.bert.encoder.layer[i].trainable = True\n",
        "  if i == len(model.bert.encoder.layer) - 2:\n",
        "    model.bert.encoder.layer[i].trainable = True\n",
        "  if i == len(model.bert.encoder.layer) - 3:\n",
        "    model.bert.encoder.layer[i].trainable = True\n",
        "model.summary()"
      ]
    },
    {
      "cell_type": "code",
      "execution_count": null,
      "metadata": {
        "colab": {
          "base_uri": "https://localhost:8080/"
        },
        "id": "I-GnCDNt5j_G",
        "outputId": "d5a668c1-f5c7-44e7-da8a-31701c4b06f6"
      },
      "outputs": [
        {
          "output_type": "stream",
          "name": "stderr",
          "text": [
            "You're using a BertTokenizerFast tokenizer. Please note that with a fast tokenizer, using the `__call__` method is faster than using a method to encode the text followed by a call to the `pad` method to get a padded encoding.\n"
          ]
        }
      ],
      "source": [
        "train_dataset = model.prepare_tf_dataset(\n",
        "    train_hg_dataset_tokenized,\n",
        "    shuffle=True,\n",
        "    batch_size=batch_size,\n",
        "    collate_fn=data_collator,\n",
        ")\n",
        "\n",
        "test_dataset = model.prepare_tf_dataset(\n",
        "    test_hg_dataset_tokenized,\n",
        "    shuffle=False,\n",
        "    batch_size=batch_size,\n",
        "    collate_fn=data_collator,\n",
        ")"
      ]
    },
    {
      "cell_type": "code",
      "execution_count": null,
      "metadata": {
        "id": "YHNWO40a5y98"
      },
      "outputs": [],
      "source": [
        "import tensorflow as tf\n",
        "\n",
        "model.compile(optimizer=optimizer, metrics=[\"accuracy\"])"
      ]
    },
    {
      "cell_type": "code",
      "execution_count": null,
      "metadata": {
        "id": "b7ZU60as52Ak"
      },
      "outputs": [],
      "source": [
        "from transformers.keras_callbacks import KerasMetricCallback\n",
        "\n",
        "val_accuracy_callback = KerasMetricCallback(metric_fn=compute_accuracy, eval_dataset=test_dataset)\n",
        "val_precision_callback = KerasMetricCallback(metric_fn=compute_precision, eval_dataset=test_dataset)\n",
        "val_recall_callback = KerasMetricCallback(metric_fn=compute_recall, eval_dataset=test_dataset)\n",
        "val_f1_callback = KerasMetricCallback(metric_fn=compute_f1, eval_dataset=test_dataset)\n",
        "callbacks = [val_precision_callback, val_recall_callback, val_f1_callback]"
      ]
    },
    {
      "cell_type": "code",
      "execution_count": null,
      "metadata": {
        "id": "mSbyHNNqfBMt"
      },
      "outputs": [],
      "source": [
        "checkpoint_path = 'training_1/cp.ckpt'\n",
        "cp_callback = tf.keras.callbacks.ModelCheckpoint(filepath=checkpoint_path,\n",
        "                                                 save_weights_only=True,\n",
        "                                                 save_best_only=True,\n",
        "                                                 verbose=1,\n",
        "                                                 monitor='val_loss')\n",
        "es_callback = tf.keras.callbacks.EarlyStopping(\n",
        "    monitor='val_loss',\n",
        "    min_delta=0.001,\n",
        "    patience=3,\n",
        "    verbose=0,\n",
        "    mode='auto',\n",
        "    baseline=None,\n",
        "    restore_best_weights=True\n",
        ")\n",
        "callbacks.append(cp_callback)\n",
        "callbacks.append(es_callback)"
      ]
    },
    {
      "cell_type": "code",
      "execution_count": null,
      "metadata": {
        "colab": {
          "base_uri": "https://localhost:8080/"
        },
        "id": "sKGOrCES5602",
        "outputId": "6da7c3b5-a4fd-4ca2-f2df-50024f9794a8"
      },
      "outputs": [
        {
          "output_type": "stream",
          "name": "stdout",
          "text": [
            "Epoch 1/20\n",
            "26/26 [==============================] - ETA: 0s - loss: 0.7119 - accuracy: 0.5000 \n",
            "Epoch 1: val_loss improved from inf to 0.66980, saving model to training_1/cp.ckpt\n",
            "26/26 [==============================] - 1995s 76s/step - loss: 0.7119 - accuracy: 0.5000 - val_loss: 0.6698 - val_accuracy: 0.5326 - precision: 0.5181 - recall: 0.9348 - f1: 0.6667\n",
            "Epoch 2/20\n",
            "26/26 [==============================] - ETA: 0s - loss: 0.6495 - accuracy: 0.6538 \n",
            "Epoch 2: val_loss improved from 0.66980 to 0.64251, saving model to training_1/cp.ckpt\n",
            "26/26 [==============================] - 1881s 74s/step - loss: 0.6495 - accuracy: 0.6538 - val_loss: 0.6425 - val_accuracy: 0.6848 - precision: 0.7429 - recall: 0.5652 - f1: 0.6420\n",
            "Epoch 3/20\n",
            "26/26 [==============================] - ETA: 0s - loss: 0.6100 - accuracy: 0.7692 \n",
            "Epoch 3: val_loss improved from 0.64251 to 0.63476, saving model to training_1/cp.ckpt\n",
            "26/26 [==============================] - 1905s 75s/step - loss: 0.6100 - accuracy: 0.7692 - val_loss: 0.6348 - val_accuracy: 0.6739 - precision: 0.6739 - recall: 0.6739 - f1: 0.6739\n",
            "Epoch 4/20\n"
          ]
        }
      ],
      "source": [
        "history = model.fit(x=train_dataset, validation_data=test_dataset, epochs=20, callbacks=callbacks)"
      ]
    },
    {
      "cell_type": "code",
      "execution_count": null,
      "metadata": {
        "id": "1p8DLG2ENcSG"
      },
      "outputs": [],
      "source": [
        "model.load_weights(checkpoint_path)\n",
        "model.compile(optimizer=optimizer)"
      ]
    },
    {
      "cell_type": "code",
      "execution_count": null,
      "metadata": {
        "id": "A6nyhhAqNu6Z"
      },
      "outputs": [],
      "source": [
        "import matplotlib.pyplot as plt\n",
        "\n",
        "\n",
        "def plot_graphs(history, metric):\n",
        "  plt.plot(history.history[metric])\n",
        "  plt.plot(history.history['val_'+metric], '')\n",
        "  plt.xlabel(\"Epochs\")\n",
        "  plt.ylabel(metric)\n",
        "  plt.legend([metric, 'val_'+metric])"
      ]
    },
    {
      "cell_type": "code",
      "execution_count": null,
      "metadata": {
        "id": "EBPOOTTcDv6-"
      },
      "outputs": [],
      "source": [
        "pred_logits = model.predict(test_dataset)"
      ]
    },
    {
      "cell_type": "code",
      "execution_count": null,
      "metadata": {
        "id": "Blzv4XEBfMug"
      },
      "outputs": [],
      "source": [
        "print(pred_logits)"
      ]
    },
    {
      "cell_type": "code",
      "execution_count": null,
      "metadata": {
        "id": "3Kk0lAnofX50"
      },
      "outputs": [],
      "source": [
        "labels = test_hg_dataset_tokenized['label']\n",
        "predictions = np.argmax(pred_logits.logits, axis=1)\n",
        "print(labels)\n",
        "print(predictions)"
      ]
    },
    {
      "cell_type": "code",
      "execution_count": null,
      "metadata": {
        "id": "WrAzhedsfZfZ"
      },
      "outputs": [],
      "source": [
        "from sklearn.metrics import confusion_matrix, ConfusionMatrixDisplay\n",
        "\n",
        "cm_real = confusion_matrix(labels, predictions, labels=[0, 1])\n",
        "disp = ConfusionMatrixDisplay(confusion_matrix=cm_real, display_labels=[0, 1])\n",
        "disp.plot()\n",
        "plt.show()"
      ]
    },
    {
      "cell_type": "code",
      "execution_count": null,
      "metadata": {
        "id": "clO3ovGhN8j1"
      },
      "outputs": [],
      "source": [
        "plt.figure(figsize=(16, 8))\n",
        "plt.subplot(1, 2, 1)\n",
        "plot_graphs(history, 'accuracy')\n",
        "plt.ylim(None, 1)\n",
        "plt.subplot(1, 2, 2)\n",
        "plot_graphs(history, 'loss')\n",
        "plt.ylim(0, None)"
      ]
    },
    {
      "cell_type": "code",
      "execution_count": null,
      "metadata": {
        "id": "8nTJy7hIfa97"
      },
      "outputs": [],
      "source": [
        "from sklearn.metrics import classification_report\n",
        "\n",
        "target_names = ['NOT AN ANSWER', 'ANSWER']\n",
        "print(classification_report(labels, predictions, target_names=target_names))"
      ]
    },
    {
      "cell_type": "code",
      "execution_count": null,
      "metadata": {
        "id": "Ykp57VbzK4rn"
      },
      "outputs": [],
      "source": [
        "model.save('BERT_QA.h5')"
      ]
    },
    {
      "cell_type": "code",
      "source": [
        "#import shutil\n",
        "#output_filename = \"bert_qa\"\n",
        "##dir_name = \"BERT_QA\"\n",
        "#shutil.make_archive(output_filename, 'zip', dir_name)"
      ],
      "metadata": {
        "id": "XstCNOOueXKy"
      },
      "execution_count": null,
      "outputs": []
    },
    {
      "cell_type": "code",
      "source": [
        "from google.colab import files\n",
        "#files.download('bert_qa.zip')"
      ],
      "metadata": {
        "id": "iIMdIHUreay7"
      },
      "execution_count": null,
      "outputs": []
    }
  ],
  "metadata": {
    "colab": {
      "provenance": []
    },
    "kernelspec": {
      "display_name": "Python 3",
      "name": "python3"
    },
    "language_info": {
      "name": "python"
    },
    "widgets": {
      "application/vnd.jupyter.widget-state+json": {
        "0d5f998703314ea7b24aa588359e24d1": {
          "model_module": "@jupyter-widgets/controls",
          "model_name": "HBoxModel",
          "model_module_version": "1.5.0",
          "state": {
            "_dom_classes": [],
            "_model_module": "@jupyter-widgets/controls",
            "_model_module_version": "1.5.0",
            "_model_name": "HBoxModel",
            "_view_count": null,
            "_view_module": "@jupyter-widgets/controls",
            "_view_module_version": "1.5.0",
            "_view_name": "HBoxView",
            "box_style": "",
            "children": [
              "IPY_MODEL_4e0b4b92070641519d6ae26754668744",
              "IPY_MODEL_58b0ddb8033c467bb3248dc6a3c65782",
              "IPY_MODEL_719feb970a05447b83ff43b3ed2878c6"
            ],
            "layout": "IPY_MODEL_d693baea87ff42cf8f6863e6257ab2b9"
          }
        },
        "4e0b4b92070641519d6ae26754668744": {
          "model_module": "@jupyter-widgets/controls",
          "model_name": "HTMLModel",
          "model_module_version": "1.5.0",
          "state": {
            "_dom_classes": [],
            "_model_module": "@jupyter-widgets/controls",
            "_model_module_version": "1.5.0",
            "_model_name": "HTMLModel",
            "_view_count": null,
            "_view_module": "@jupyter-widgets/controls",
            "_view_module_version": "1.5.0",
            "_view_name": "HTMLView",
            "description": "",
            "description_tooltip": null,
            "layout": "IPY_MODEL_fe1f1e5da122451faba4c24d01399c21",
            "placeholder": "​",
            "style": "IPY_MODEL_78b022a55261492da61b2fcb89ef30db",
            "value": "Map: 100%"
          }
        },
        "58b0ddb8033c467bb3248dc6a3c65782": {
          "model_module": "@jupyter-widgets/controls",
          "model_name": "FloatProgressModel",
          "model_module_version": "1.5.0",
          "state": {
            "_dom_classes": [],
            "_model_module": "@jupyter-widgets/controls",
            "_model_module_version": "1.5.0",
            "_model_name": "FloatProgressModel",
            "_view_count": null,
            "_view_module": "@jupyter-widgets/controls",
            "_view_module_version": "1.5.0",
            "_view_name": "ProgressView",
            "bar_style": "",
            "description": "",
            "description_tooltip": null,
            "layout": "IPY_MODEL_f559106bbf6b49469673ca9e3686eccf",
            "max": 210,
            "min": 0,
            "orientation": "horizontal",
            "style": "IPY_MODEL_a29de9bac3f94567afe3ffed890d9d21",
            "value": 210
          }
        },
        "719feb970a05447b83ff43b3ed2878c6": {
          "model_module": "@jupyter-widgets/controls",
          "model_name": "HTMLModel",
          "model_module_version": "1.5.0",
          "state": {
            "_dom_classes": [],
            "_model_module": "@jupyter-widgets/controls",
            "_model_module_version": "1.5.0",
            "_model_name": "HTMLModel",
            "_view_count": null,
            "_view_module": "@jupyter-widgets/controls",
            "_view_module_version": "1.5.0",
            "_view_name": "HTMLView",
            "description": "",
            "description_tooltip": null,
            "layout": "IPY_MODEL_5afdb194a5fc4e3998d5ae12f9b5ae90",
            "placeholder": "​",
            "style": "IPY_MODEL_a59e8bf242dd4800914e5fe1f032bfb0",
            "value": " 210/210 [00:00&lt;00:00, 648.75 examples/s]"
          }
        },
        "d693baea87ff42cf8f6863e6257ab2b9": {
          "model_module": "@jupyter-widgets/base",
          "model_name": "LayoutModel",
          "model_module_version": "1.2.0",
          "state": {
            "_model_module": "@jupyter-widgets/base",
            "_model_module_version": "1.2.0",
            "_model_name": "LayoutModel",
            "_view_count": null,
            "_view_module": "@jupyter-widgets/base",
            "_view_module_version": "1.2.0",
            "_view_name": "LayoutView",
            "align_content": null,
            "align_items": null,
            "align_self": null,
            "border": null,
            "bottom": null,
            "display": null,
            "flex": null,
            "flex_flow": null,
            "grid_area": null,
            "grid_auto_columns": null,
            "grid_auto_flow": null,
            "grid_auto_rows": null,
            "grid_column": null,
            "grid_gap": null,
            "grid_row": null,
            "grid_template_areas": null,
            "grid_template_columns": null,
            "grid_template_rows": null,
            "height": null,
            "justify_content": null,
            "justify_items": null,
            "left": null,
            "margin": null,
            "max_height": null,
            "max_width": null,
            "min_height": null,
            "min_width": null,
            "object_fit": null,
            "object_position": null,
            "order": null,
            "overflow": null,
            "overflow_x": null,
            "overflow_y": null,
            "padding": null,
            "right": null,
            "top": null,
            "visibility": "hidden",
            "width": null
          }
        },
        "fe1f1e5da122451faba4c24d01399c21": {
          "model_module": "@jupyter-widgets/base",
          "model_name": "LayoutModel",
          "model_module_version": "1.2.0",
          "state": {
            "_model_module": "@jupyter-widgets/base",
            "_model_module_version": "1.2.0",
            "_model_name": "LayoutModel",
            "_view_count": null,
            "_view_module": "@jupyter-widgets/base",
            "_view_module_version": "1.2.0",
            "_view_name": "LayoutView",
            "align_content": null,
            "align_items": null,
            "align_self": null,
            "border": null,
            "bottom": null,
            "display": null,
            "flex": null,
            "flex_flow": null,
            "grid_area": null,
            "grid_auto_columns": null,
            "grid_auto_flow": null,
            "grid_auto_rows": null,
            "grid_column": null,
            "grid_gap": null,
            "grid_row": null,
            "grid_template_areas": null,
            "grid_template_columns": null,
            "grid_template_rows": null,
            "height": null,
            "justify_content": null,
            "justify_items": null,
            "left": null,
            "margin": null,
            "max_height": null,
            "max_width": null,
            "min_height": null,
            "min_width": null,
            "object_fit": null,
            "object_position": null,
            "order": null,
            "overflow": null,
            "overflow_x": null,
            "overflow_y": null,
            "padding": null,
            "right": null,
            "top": null,
            "visibility": null,
            "width": null
          }
        },
        "78b022a55261492da61b2fcb89ef30db": {
          "model_module": "@jupyter-widgets/controls",
          "model_name": "DescriptionStyleModel",
          "model_module_version": "1.5.0",
          "state": {
            "_model_module": "@jupyter-widgets/controls",
            "_model_module_version": "1.5.0",
            "_model_name": "DescriptionStyleModel",
            "_view_count": null,
            "_view_module": "@jupyter-widgets/base",
            "_view_module_version": "1.2.0",
            "_view_name": "StyleView",
            "description_width": ""
          }
        },
        "f559106bbf6b49469673ca9e3686eccf": {
          "model_module": "@jupyter-widgets/base",
          "model_name": "LayoutModel",
          "model_module_version": "1.2.0",
          "state": {
            "_model_module": "@jupyter-widgets/base",
            "_model_module_version": "1.2.0",
            "_model_name": "LayoutModel",
            "_view_count": null,
            "_view_module": "@jupyter-widgets/base",
            "_view_module_version": "1.2.0",
            "_view_name": "LayoutView",
            "align_content": null,
            "align_items": null,
            "align_self": null,
            "border": null,
            "bottom": null,
            "display": null,
            "flex": null,
            "flex_flow": null,
            "grid_area": null,
            "grid_auto_columns": null,
            "grid_auto_flow": null,
            "grid_auto_rows": null,
            "grid_column": null,
            "grid_gap": null,
            "grid_row": null,
            "grid_template_areas": null,
            "grid_template_columns": null,
            "grid_template_rows": null,
            "height": null,
            "justify_content": null,
            "justify_items": null,
            "left": null,
            "margin": null,
            "max_height": null,
            "max_width": null,
            "min_height": null,
            "min_width": null,
            "object_fit": null,
            "object_position": null,
            "order": null,
            "overflow": null,
            "overflow_x": null,
            "overflow_y": null,
            "padding": null,
            "right": null,
            "top": null,
            "visibility": null,
            "width": null
          }
        },
        "a29de9bac3f94567afe3ffed890d9d21": {
          "model_module": "@jupyter-widgets/controls",
          "model_name": "ProgressStyleModel",
          "model_module_version": "1.5.0",
          "state": {
            "_model_module": "@jupyter-widgets/controls",
            "_model_module_version": "1.5.0",
            "_model_name": "ProgressStyleModel",
            "_view_count": null,
            "_view_module": "@jupyter-widgets/base",
            "_view_module_version": "1.2.0",
            "_view_name": "StyleView",
            "bar_color": null,
            "description_width": ""
          }
        },
        "5afdb194a5fc4e3998d5ae12f9b5ae90": {
          "model_module": "@jupyter-widgets/base",
          "model_name": "LayoutModel",
          "model_module_version": "1.2.0",
          "state": {
            "_model_module": "@jupyter-widgets/base",
            "_model_module_version": "1.2.0",
            "_model_name": "LayoutModel",
            "_view_count": null,
            "_view_module": "@jupyter-widgets/base",
            "_view_module_version": "1.2.0",
            "_view_name": "LayoutView",
            "align_content": null,
            "align_items": null,
            "align_self": null,
            "border": null,
            "bottom": null,
            "display": null,
            "flex": null,
            "flex_flow": null,
            "grid_area": null,
            "grid_auto_columns": null,
            "grid_auto_flow": null,
            "grid_auto_rows": null,
            "grid_column": null,
            "grid_gap": null,
            "grid_row": null,
            "grid_template_areas": null,
            "grid_template_columns": null,
            "grid_template_rows": null,
            "height": null,
            "justify_content": null,
            "justify_items": null,
            "left": null,
            "margin": null,
            "max_height": null,
            "max_width": null,
            "min_height": null,
            "min_width": null,
            "object_fit": null,
            "object_position": null,
            "order": null,
            "overflow": null,
            "overflow_x": null,
            "overflow_y": null,
            "padding": null,
            "right": null,
            "top": null,
            "visibility": null,
            "width": null
          }
        },
        "a59e8bf242dd4800914e5fe1f032bfb0": {
          "model_module": "@jupyter-widgets/controls",
          "model_name": "DescriptionStyleModel",
          "model_module_version": "1.5.0",
          "state": {
            "_model_module": "@jupyter-widgets/controls",
            "_model_module_version": "1.5.0",
            "_model_name": "DescriptionStyleModel",
            "_view_count": null,
            "_view_module": "@jupyter-widgets/base",
            "_view_module_version": "1.2.0",
            "_view_name": "StyleView",
            "description_width": ""
          }
        },
        "83e64fa5a3914bddb63d21526e6e87fa": {
          "model_module": "@jupyter-widgets/controls",
          "model_name": "HBoxModel",
          "model_module_version": "1.5.0",
          "state": {
            "_dom_classes": [],
            "_model_module": "@jupyter-widgets/controls",
            "_model_module_version": "1.5.0",
            "_model_name": "HBoxModel",
            "_view_count": null,
            "_view_module": "@jupyter-widgets/controls",
            "_view_module_version": "1.5.0",
            "_view_name": "HBoxView",
            "box_style": "",
            "children": [
              "IPY_MODEL_935e2e4eee254c249efd01be490cdd82",
              "IPY_MODEL_f1f2ad60c0da459e957357f7db7c3363",
              "IPY_MODEL_c162725e6e0448e88e04023c11c898ae"
            ],
            "layout": "IPY_MODEL_841cb647476844a3ab4d2f2c4ea6c3df"
          }
        },
        "935e2e4eee254c249efd01be490cdd82": {
          "model_module": "@jupyter-widgets/controls",
          "model_name": "HTMLModel",
          "model_module_version": "1.5.0",
          "state": {
            "_dom_classes": [],
            "_model_module": "@jupyter-widgets/controls",
            "_model_module_version": "1.5.0",
            "_model_name": "HTMLModel",
            "_view_count": null,
            "_view_module": "@jupyter-widgets/controls",
            "_view_module_version": "1.5.0",
            "_view_name": "HTMLView",
            "description": "",
            "description_tooltip": null,
            "layout": "IPY_MODEL_8c764c88671848d98b34353be5c4d14e",
            "placeholder": "​",
            "style": "IPY_MODEL_856fef5e2c7040559b262ec02bfeda2a",
            "value": "Map: 100%"
          }
        },
        "f1f2ad60c0da459e957357f7db7c3363": {
          "model_module": "@jupyter-widgets/controls",
          "model_name": "FloatProgressModel",
          "model_module_version": "1.5.0",
          "state": {
            "_dom_classes": [],
            "_model_module": "@jupyter-widgets/controls",
            "_model_module_version": "1.5.0",
            "_model_name": "FloatProgressModel",
            "_view_count": null,
            "_view_module": "@jupyter-widgets/controls",
            "_view_module_version": "1.5.0",
            "_view_name": "ProgressView",
            "bar_style": "",
            "description": "",
            "description_tooltip": null,
            "layout": "IPY_MODEL_45943d372516449aa45a7200c5011f54",
            "max": 92,
            "min": 0,
            "orientation": "horizontal",
            "style": "IPY_MODEL_48959fa13a7544cba09cfa5670098ca7",
            "value": 92
          }
        },
        "c162725e6e0448e88e04023c11c898ae": {
          "model_module": "@jupyter-widgets/controls",
          "model_name": "HTMLModel",
          "model_module_version": "1.5.0",
          "state": {
            "_dom_classes": [],
            "_model_module": "@jupyter-widgets/controls",
            "_model_module_version": "1.5.0",
            "_model_name": "HTMLModel",
            "_view_count": null,
            "_view_module": "@jupyter-widgets/controls",
            "_view_module_version": "1.5.0",
            "_view_name": "HTMLView",
            "description": "",
            "description_tooltip": null,
            "layout": "IPY_MODEL_1a1105f7e8ce44a6b71a10ef048e5426",
            "placeholder": "​",
            "style": "IPY_MODEL_b108fa382a3a4503b7d562352c4f7182",
            "value": " 92/92 [00:00&lt;00:00, 861.84 examples/s]"
          }
        },
        "841cb647476844a3ab4d2f2c4ea6c3df": {
          "model_module": "@jupyter-widgets/base",
          "model_name": "LayoutModel",
          "model_module_version": "1.2.0",
          "state": {
            "_model_module": "@jupyter-widgets/base",
            "_model_module_version": "1.2.0",
            "_model_name": "LayoutModel",
            "_view_count": null,
            "_view_module": "@jupyter-widgets/base",
            "_view_module_version": "1.2.0",
            "_view_name": "LayoutView",
            "align_content": null,
            "align_items": null,
            "align_self": null,
            "border": null,
            "bottom": null,
            "display": null,
            "flex": null,
            "flex_flow": null,
            "grid_area": null,
            "grid_auto_columns": null,
            "grid_auto_flow": null,
            "grid_auto_rows": null,
            "grid_column": null,
            "grid_gap": null,
            "grid_row": null,
            "grid_template_areas": null,
            "grid_template_columns": null,
            "grid_template_rows": null,
            "height": null,
            "justify_content": null,
            "justify_items": null,
            "left": null,
            "margin": null,
            "max_height": null,
            "max_width": null,
            "min_height": null,
            "min_width": null,
            "object_fit": null,
            "object_position": null,
            "order": null,
            "overflow": null,
            "overflow_x": null,
            "overflow_y": null,
            "padding": null,
            "right": null,
            "top": null,
            "visibility": "hidden",
            "width": null
          }
        },
        "8c764c88671848d98b34353be5c4d14e": {
          "model_module": "@jupyter-widgets/base",
          "model_name": "LayoutModel",
          "model_module_version": "1.2.0",
          "state": {
            "_model_module": "@jupyter-widgets/base",
            "_model_module_version": "1.2.0",
            "_model_name": "LayoutModel",
            "_view_count": null,
            "_view_module": "@jupyter-widgets/base",
            "_view_module_version": "1.2.0",
            "_view_name": "LayoutView",
            "align_content": null,
            "align_items": null,
            "align_self": null,
            "border": null,
            "bottom": null,
            "display": null,
            "flex": null,
            "flex_flow": null,
            "grid_area": null,
            "grid_auto_columns": null,
            "grid_auto_flow": null,
            "grid_auto_rows": null,
            "grid_column": null,
            "grid_gap": null,
            "grid_row": null,
            "grid_template_areas": null,
            "grid_template_columns": null,
            "grid_template_rows": null,
            "height": null,
            "justify_content": null,
            "justify_items": null,
            "left": null,
            "margin": null,
            "max_height": null,
            "max_width": null,
            "min_height": null,
            "min_width": null,
            "object_fit": null,
            "object_position": null,
            "order": null,
            "overflow": null,
            "overflow_x": null,
            "overflow_y": null,
            "padding": null,
            "right": null,
            "top": null,
            "visibility": null,
            "width": null
          }
        },
        "856fef5e2c7040559b262ec02bfeda2a": {
          "model_module": "@jupyter-widgets/controls",
          "model_name": "DescriptionStyleModel",
          "model_module_version": "1.5.0",
          "state": {
            "_model_module": "@jupyter-widgets/controls",
            "_model_module_version": "1.5.0",
            "_model_name": "DescriptionStyleModel",
            "_view_count": null,
            "_view_module": "@jupyter-widgets/base",
            "_view_module_version": "1.2.0",
            "_view_name": "StyleView",
            "description_width": ""
          }
        },
        "45943d372516449aa45a7200c5011f54": {
          "model_module": "@jupyter-widgets/base",
          "model_name": "LayoutModel",
          "model_module_version": "1.2.0",
          "state": {
            "_model_module": "@jupyter-widgets/base",
            "_model_module_version": "1.2.0",
            "_model_name": "LayoutModel",
            "_view_count": null,
            "_view_module": "@jupyter-widgets/base",
            "_view_module_version": "1.2.0",
            "_view_name": "LayoutView",
            "align_content": null,
            "align_items": null,
            "align_self": null,
            "border": null,
            "bottom": null,
            "display": null,
            "flex": null,
            "flex_flow": null,
            "grid_area": null,
            "grid_auto_columns": null,
            "grid_auto_flow": null,
            "grid_auto_rows": null,
            "grid_column": null,
            "grid_gap": null,
            "grid_row": null,
            "grid_template_areas": null,
            "grid_template_columns": null,
            "grid_template_rows": null,
            "height": null,
            "justify_content": null,
            "justify_items": null,
            "left": null,
            "margin": null,
            "max_height": null,
            "max_width": null,
            "min_height": null,
            "min_width": null,
            "object_fit": null,
            "object_position": null,
            "order": null,
            "overflow": null,
            "overflow_x": null,
            "overflow_y": null,
            "padding": null,
            "right": null,
            "top": null,
            "visibility": null,
            "width": null
          }
        },
        "48959fa13a7544cba09cfa5670098ca7": {
          "model_module": "@jupyter-widgets/controls",
          "model_name": "ProgressStyleModel",
          "model_module_version": "1.5.0",
          "state": {
            "_model_module": "@jupyter-widgets/controls",
            "_model_module_version": "1.5.0",
            "_model_name": "ProgressStyleModel",
            "_view_count": null,
            "_view_module": "@jupyter-widgets/base",
            "_view_module_version": "1.2.0",
            "_view_name": "StyleView",
            "bar_color": null,
            "description_width": ""
          }
        },
        "1a1105f7e8ce44a6b71a10ef048e5426": {
          "model_module": "@jupyter-widgets/base",
          "model_name": "LayoutModel",
          "model_module_version": "1.2.0",
          "state": {
            "_model_module": "@jupyter-widgets/base",
            "_model_module_version": "1.2.0",
            "_model_name": "LayoutModel",
            "_view_count": null,
            "_view_module": "@jupyter-widgets/base",
            "_view_module_version": "1.2.0",
            "_view_name": "LayoutView",
            "align_content": null,
            "align_items": null,
            "align_self": null,
            "border": null,
            "bottom": null,
            "display": null,
            "flex": null,
            "flex_flow": null,
            "grid_area": null,
            "grid_auto_columns": null,
            "grid_auto_flow": null,
            "grid_auto_rows": null,
            "grid_column": null,
            "grid_gap": null,
            "grid_row": null,
            "grid_template_areas": null,
            "grid_template_columns": null,
            "grid_template_rows": null,
            "height": null,
            "justify_content": null,
            "justify_items": null,
            "left": null,
            "margin": null,
            "max_height": null,
            "max_width": null,
            "min_height": null,
            "min_width": null,
            "object_fit": null,
            "object_position": null,
            "order": null,
            "overflow": null,
            "overflow_x": null,
            "overflow_y": null,
            "padding": null,
            "right": null,
            "top": null,
            "visibility": null,
            "width": null
          }
        },
        "b108fa382a3a4503b7d562352c4f7182": {
          "model_module": "@jupyter-widgets/controls",
          "model_name": "DescriptionStyleModel",
          "model_module_version": "1.5.0",
          "state": {
            "_model_module": "@jupyter-widgets/controls",
            "_model_module_version": "1.5.0",
            "_model_name": "DescriptionStyleModel",
            "_view_count": null,
            "_view_module": "@jupyter-widgets/base",
            "_view_module_version": "1.2.0",
            "_view_name": "StyleView",
            "description_width": ""
          }
        }
      }
    }
  },
  "nbformat": 4,
  "nbformat_minor": 0
}