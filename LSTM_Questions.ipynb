{
  "nbformat": 4,
  "nbformat_minor": 0,
  "metadata": {
    "colab": {
      "provenance": []
    },
    "kernelspec": {
      "name": "python3",
      "display_name": "Python 3"
    },
    "language_info": {
      "name": "python"
    },
    "gpuClass": "standard"
  },
  "cells": [
    {
      "cell_type": "markdown",
      "source": [
        "# Подготовка"
      ],
      "metadata": {
        "id": "zA8dmNjvG46s"
      }
    },
    {
      "cell_type": "code",
      "execution_count": null,
      "metadata": {
        "id": "GIeamEhC0dPI"
      },
      "outputs": [],
      "source": [
        "# Be sure you're using the stable versions of both `tensorflow` and\n",
        "# `tensorflow-text`, for binary compatibility.\n",
        "! pip uninstall -y tf-nightly keras-nightly\n",
        "! pip install tensorflow\n",
        "! pip install tensorflow-text\n",
        "! pip install transformers\n",
        "! pip install pymorphy2\n",
        "from IPython.display import clear_output\n",
        "clear_output()"
      ]
    },
    {
      "cell_type": "code",
      "source": [
        "import numpy as np"
      ],
      "metadata": {
        "id": "oieNqm3N0kcm"
      },
      "execution_count": null,
      "outputs": []
    },
    {
      "cell_type": "code",
      "source": [
        "import collections\n",
        "import pathlib\n",
        "import re\n",
        "\n",
        "import tensorflow as tf\n",
        "\n",
        "from tensorflow.keras import layers\n",
        "from tensorflow.keras import losses\n",
        "from tensorflow.keras import utils\n",
        "from tensorflow.keras.layers import TextVectorization\n",
        "\n",
        "import tensorflow_text as tf_text\n",
        "import transformers as trfs\n",
        "from sklearn.model_selection import train_test_split\n",
        "\n",
        "from nltk.corpus import stopwords\n",
        "import nltk\n",
        "from pymorphy2 import MorphAnalyzer\n",
        "\n",
        "nltk.download('stopwords')\n",
        "stopwords = stopwords.words('russian')\n",
        "morph = MorphAnalyzer()"
      ],
      "metadata": {
        "id": "u6QnSgjR0odr",
        "colab": {
          "base_uri": "https://localhost:8080/"
        },
        "outputId": "52e053cb-8f1c-4304-ece4-95291b43414d"
      },
      "execution_count": null,
      "outputs": [
        {
          "output_type": "stream",
          "name": "stderr",
          "text": [
            "[nltk_data] Downloading package stopwords to /root/nltk_data...\n",
            "[nltk_data]   Unzipping corpora/stopwords.zip.\n"
          ]
        }
      ]
    },
    {
      "cell_type": "code",
      "source": [
        "def lemmatize(sentence):\n",
        "    tokens = []\n",
        "    for token in sentence.split():\n",
        "        if token and token not in stopwords:\n",
        "            token = token.strip()\n",
        "            token = morph.normal_forms(token)[0]\n",
        "\n",
        "            tokens.append(token)\n",
        "    if len(tokens) > 0:\n",
        "        return ' '.join(tokens)\n",
        "    return ''"
      ],
      "metadata": {
        "id": "TxvExJRKaCq5"
      },
      "execution_count": null,
      "outputs": []
    },
    {
      "cell_type": "code",
      "source": [
        "good_pattern = re.compile('[^а-яА-Я ]')\n",
        "space_pattern = re.compile(' +')\n",
        "\n",
        "\n",
        "def clean_text(text):\n",
        "    new_text = good_pattern.sub(' ', text).strip()\n",
        "    new_text = re.sub(space_pattern, ' ', new_text)\n",
        "    return new_text"
      ],
      "metadata": {
        "id": "wJXB6_HGaDQ2"
      },
      "execution_count": null,
      "outputs": []
    },
    {
      "cell_type": "code",
      "source": [
        "def normalize(text):\n",
        "  return lemmatize(clean_text(text.lower()))"
      ],
      "metadata": {
        "id": "ys7MO-abg39z"
      },
      "execution_count": null,
      "outputs": []
    },
    {
      "cell_type": "code",
      "source": [
        "import matplotlib.pyplot as plt\n",
        "\n",
        "\n",
        "def plot_graphs(history, metric):\n",
        "  plt.plot(history.history[metric])\n",
        "  plt.plot(history.history['val_'+metric], '')\n",
        "  plt.xlabel(\"Epochs\")\n",
        "  plt.ylabel(metric)\n",
        "  plt.legend([metric, 'val_'+metric])"
      ],
      "metadata": {
        "id": "ruBRr6Ug0rJQ"
      },
      "execution_count": null,
      "outputs": []
    },
    {
      "cell_type": "code",
      "source": [
        "from google.colab import drive\n",
        "drive.mount('/content/drive/')"
      ],
      "metadata": {
        "colab": {
          "base_uri": "https://localhost:8080/"
        },
        "id": "61-A9sdP4DRF",
        "outputId": "cacff5cd-d7d3-4c3d-d535-cbfc3323a0da"
      },
      "execution_count": null,
      "outputs": [
        {
          "output_type": "stream",
          "name": "stdout",
          "text": [
            "Mounted at /content/drive/\n"
          ]
        }
      ]
    },
    {
      "cell_type": "code",
      "source": [
        "#device_name = tf.test.gpu_device_name()\n",
        "#if device_name != '/device:GPU:0':\n",
        "#  raise SystemError('GPU device not found')\n",
        "#print('Found GPU at: {}'.format(device_name))"
      ],
      "metadata": {
        "id": "zN-zdrtBFTRv"
      },
      "execution_count": null,
      "outputs": []
    },
    {
      "cell_type": "code",
      "source": [
        "import os\n",
        "#Change the current working directory to the path of Google Cloud Drive\n",
        "path=\"/content/drive/MyDrive/ML\"\n",
        "os.chdir(path)\n",
        "print(os.listdir(path))\n",
        "os.chdir('/content')"
      ],
      "metadata": {
        "colab": {
          "base_uri": "https://localhost:8080/"
        },
        "id": "VORRSjit4W_b",
        "outputId": "853899ce-cef5-4315-a811-303c5264373b"
      },
      "execution_count": null,
      "outputs": [
        {
          "output_type": "stream",
          "name": "stdout",
          "text": [
            "['backbone_labeled.json', 'backbone_labeled1.json', 'qa_labeled1.json', 'backbone_labeled2.json', 'qa_labeled.json', 'ee66fe54-da44-411e-a67e-19bacd205646.json']\n"
          ]
        }
      ]
    },
    {
      "cell_type": "markdown",
      "source": [
        "# Импорт данных"
      ],
      "metadata": {
        "id": "VvkMIVW3G_Yd"
      }
    },
    {
      "cell_type": "code",
      "source": [
        "import json\n",
        "import pandas as pd\n",
        "\n",
        "js_df = pd.read_json(open(\"/content/drive/MyDrive/ML/backbone_labeled2.json\"))\n",
        "js_df.to_csv('file.csv')"
      ],
      "metadata": {
        "id": "fCZBtlxW0uLw"
      },
      "execution_count": null,
      "outputs": []
    },
    {
      "cell_type": "code",
      "source": [
        "def fix(label):\n",
        "  if label == 2:\n",
        "    return 0\n",
        "  return 1"
      ],
      "metadata": {
        "id": "bV1_eWowzjlg"
      },
      "execution_count": null,
      "outputs": []
    },
    {
      "cell_type": "code",
      "source": [
        "data = pd.read_csv(\"file.csv\")[:50_000]\n",
        "data = data.copy().dropna(subset=['text', 'label'])\n",
        "data['label'] = data['label'].apply(fix)\n",
        "print(data.head())\n",
        "print(len(data))"
      ],
      "metadata": {
        "colab": {
          "base_uri": "https://localhost:8080/"
        },
        "id": "JJrr0T-_0wCT",
        "outputId": "30ede9e2-5f12-4b44-f822-2e86e4724fce"
      },
      "execution_count": null,
      "outputs": [
        {
          "output_type": "stream",
          "name": "stdout",
          "text": [
            "   Unnamed: 0                                               text  label\n",
            "0           0  подскажите, пожалуйста, как перевести регионал...      1\n",
            "1           1                             не унывай предет она!!      0\n",
            "2           2  как женщине которая старше ... как женщине кот...      1\n",
            "3           3                           купи мне цветочек живой.      0\n",
            "4           4  что делать если вы пригласили девушку в рестор...      1\n",
            "50000\n"
          ]
        }
      ]
    },
    {
      "cell_type": "code",
      "source": [
        "data_features = data.copy()\n",
        "data_labels = data_features['label']\n",
        "data_features = data_features['text']\n",
        "\n",
        "df_train, df_val, dl_train, dl_val = train_test_split(data_features, data_labels, test_size=0.3)\n",
        "\n",
        "df_val, df_test, dl_val, dl_test = train_test_split(df_val, dl_val, test_size=0.3)\n",
        "\n",
        "df_train = df_train.apply(normalize)\n",
        "\n",
        "df_val = df_val.apply(normalize)\n",
        "\n",
        "df_test = df_test.apply(normalize)\n"
      ],
      "metadata": {
        "id": "SXvtLkxU0xpg"
      },
      "execution_count": null,
      "outputs": []
    },
    {
      "cell_type": "code",
      "source": [
        "print(df_train.head())\n",
        "print(df_train.shape)\n",
        "print(df_val.head())\n",
        "print(df_val.shape)\n",
        "print(df_test.head())\n",
        "print(df_test.shape)\n",
        "print(dl_train.head())\n",
        "print(dl_train.shape)\n",
        "print(dl_val.head())\n",
        "print(dl_val.shape)\n",
        "print(dl_test.head())\n",
        "print(dl_test.shape)"
      ],
      "metadata": {
        "colab": {
          "base_uri": "https://localhost:8080/"
        },
        "id": "sINfHvLY0zpK",
        "outputId": "7c9bcdae-fad1-4a8d-83ec-c70690b83729"
      },
      "execution_count": null,
      "outputs": [
        {
          "output_type": "stream",
          "name": "stdout",
          "text": [
            "28459    разница момент выбор пройти делать вывод ситуа...\n",
            "38198    подсказать сказать мазила отвечать писать ошиб...\n",
            "31949                      лизнуть зад кулак вернуть назад\n",
            "31960    нить ващий рено лизинг брать брать почему вопр...\n",
            "6369                                              общаться\n",
            "Name: text, dtype: object\n",
            "(35000,)\n",
            "40162    сделать лунка река озеро ножик спичка вообще д...\n",
            "334      почему опустить электрод электролит соединить ...\n",
            "26521    смотреть девушка отреагировать закрутиться хре...\n",
            "17534    считать смена аватар ник повлиять характер чел...\n",
            "20334    дать ситуация возможно сделать октябрь год пол...\n",
            "Name: text, dtype: object\n",
            "(10500,)\n",
            "42601                     истреблять сей пора осознать увы\n",
            "705      древний человек заметить чёрт разбегаться вид ...\n",
            "5794     подсказать нужно зарегистрировать грузовой авт...\n",
            "33737                            призидент анна пуль тчица\n",
            "2446     повелеть веровать земля прилететь высокий расс...\n",
            "Name: text, dtype: object\n",
            "(4500,)\n",
            "28459    0\n",
            "38198    1\n",
            "31949    0\n",
            "31960    1\n",
            "6369     0\n",
            "Name: label, dtype: int64\n",
            "(35000,)\n",
            "40162    1\n",
            "334      1\n",
            "26521    0\n",
            "17534    1\n",
            "20334    1\n",
            "Name: label, dtype: int64\n",
            "(10500,)\n",
            "42601    0\n",
            "705      0\n",
            "5794     1\n",
            "33737    0\n",
            "2446     1\n",
            "Name: label, dtype: int64\n",
            "(4500,)\n"
          ]
        }
      ]
    },
    {
      "cell_type": "code",
      "source": [
        "df_train_t = tf.convert_to_tensor(df_train, dtype=tf.string)\n",
        "dl_train_t = tf.constant(dl_train)\n",
        "df_val_t= tf.convert_to_tensor(df_val, dtype=tf.string)\n",
        "dl_val_t = tf.constant(dl_val)\n",
        "df_test_t = tf.convert_to_tensor(df_test, dtype=tf.string)\n",
        "dl_test_t = tf.constant(dl_test)\n",
        "train_dataset = tf.data.Dataset.from_tensor_slices((df_train_t, dl_train_t))\n",
        "val_dataset = tf.data.Dataset.from_tensor_slices((df_val_t, dl_val_t))\n",
        "test_dataset = tf.data.Dataset.from_tensor_slices((df_test_t, dl_test_t))"
      ],
      "metadata": {
        "id": "1z7PqkZQ02yw"
      },
      "execution_count": null,
      "outputs": []
    },
    {
      "cell_type": "code",
      "source": [
        "# Batch the training and testing datasets\n",
        "batch_size = 32\n",
        "\n",
        "train_dataset = train_dataset.batch(batch_size)\n",
        "\n",
        "val_dataset = val_dataset.batch(batch_size)\n",
        "validation_steps = len(val_dataset)//batch_size\n",
        "\n",
        "test_dataset = test_dataset.batch(batch_size)\n",
        "\n",
        "steps_per_epoch = len(train_dataset)\n",
        "validation_steps = len(val_dataset)\n",
        "print(f\"steps_per_epoch: {steps_per_epoch}\")\n",
        "print(f\"validation_steps: {validation_steps}\")\n",
        "print(f\"train_dataset: {len(train_dataset)}\")\n",
        "print(f\"validation_dataset: {len(val_dataset)}\")\n",
        "print(f\"test_dataset: {len(test_dataset)}\")"
      ],
      "metadata": {
        "colab": {
          "base_uri": "https://localhost:8080/"
        },
        "id": "jnpvMEC6048r",
        "outputId": "d780bdc8-c4f9-41b5-9925-645a0c45bad2"
      },
      "execution_count": null,
      "outputs": [
        {
          "output_type": "stream",
          "name": "stdout",
          "text": [
            "steps_per_epoch: 1094\n",
            "validation_steps: 329\n",
            "train_dataset: 1094\n",
            "validation_dataset: 329\n",
            "test_dataset: 141\n"
          ]
        }
      ]
    },
    {
      "cell_type": "code",
      "source": [
        "train_dataset"
      ],
      "metadata": {
        "colab": {
          "base_uri": "https://localhost:8080/"
        },
        "id": "snKYmHu208lo",
        "outputId": "17c1efd1-f5d4-46f1-bdeb-706ecaf6c0f5"
      },
      "execution_count": null,
      "outputs": [
        {
          "output_type": "execute_result",
          "data": {
            "text/plain": [
              "<_BatchDataset element_spec=(TensorSpec(shape=(None,), dtype=tf.string, name=None), TensorSpec(shape=(None,), dtype=tf.int64, name=None))>"
            ]
          },
          "metadata": {},
          "execution_count": 18
        }
      ]
    },
    {
      "cell_type": "markdown",
      "source": [
        "# Тренировка"
      ],
      "metadata": {
        "id": "pCQ_meJkuNuA"
      }
    },
    {
      "cell_type": "code",
      "source": [
        "VOCAB_SIZE = 50000\n",
        "encoder = tf.keras.layers.TextVectorization(\n",
        "    max_tokens=VOCAB_SIZE)\n",
        "encoder.adapt(train_dataset.map(lambda text, label: text))\n",
        "vocab = np.array(encoder.get_vocabulary())\n",
        "vocab[200:300]"
      ],
      "metadata": {
        "colab": {
          "base_uri": "https://localhost:8080/"
        },
        "id": "97ByRZvr0_PO",
        "outputId": "838d2f77-441c-4f6b-92ac-11889a718271"
      },
      "execution_count": null,
      "outputs": [
        {
          "output_type": "execute_result",
          "data": {
            "text/plain": [
              "array(['красивый', 'искать', 'собака', 'мама', 'забыть', 'пройти', 'оно',\n",
              "       'вроде', 'подарить', 'казаться', 'точно', 'происходить', 'два',\n",
              "       'помощь', 'несколько', 'магазин', 'использовать', 'себя',\n",
              "       'отвечать', 'мало', 'причина', 'фото', 'пользоваться', 'лицо',\n",
              "       'просить', 'ответить', 'тело', 'равно', 'приходить', 'начало',\n",
              "       'многие', 'сильный', 'цена', 'посоветовать', 'земля', 'желание',\n",
              "       'диск', 'покупать', 'нормальный', 'находиться', 'назад', 'либо',\n",
              "       'всякий', 'туда', 'смысл', 'мысль', 'избавиться', 'болеть',\n",
              "       'получаться', 'мнение', 'никакой', 'к', 'г', 'чувствовать', 'пара',\n",
              "       'далёкий', 'ситуация', 'школа', 'ночь', 'встречаться', 'прийти',\n",
              "       'попробовать', 'выбрать', 'удача', 'обязательно', 'л', 'зависеть',\n",
              "       'пытаться', 'заранее', 'становиться', 'простой', 'кошка',\n",
              "       'знакомый', 'закон', 'они', 'мужик', 'внимание', 'свет', 'быстро',\n",
              "       'перестать', 'старый', 'цвет', 'пусть', 'полный', 'имя', 'привет',\n",
              "       'номер', 'уйти', 'поэтому', 'боль', 'утро', 'читать', 'создать',\n",
              "       'сердце', 'пол', 'никак', 'компьютер', 'ставить', 'решить',\n",
              "       'платить'], dtype='<U67')"
            ]
          },
          "metadata": {},
          "execution_count": 19
        }
      ]
    },
    {
      "cell_type": "code",
      "source": [
        "model = tf.keras.Sequential([\n",
        "    encoder,\n",
        "    tf.keras.layers.Embedding(\n",
        "        input_dim=len(encoder.get_vocabulary()),\n",
        "        output_dim=64,\n",
        "        # Use masking to handle the variable sequence lengths\n",
        "        mask_zero=True),\n",
        "    tf.keras.layers.Bidirectional(tf.keras.layers.LSTM(64)),\n",
        "    tf.keras.layers.Dropout(0.2),\n",
        "    tf.keras.layers.Dense(256, activation='relu'),\n",
        "    tf.keras.layers.Dropout(0.2),\n",
        "    tf.keras.layers.Dense(64, activation='relu'),\n",
        "    tf.keras.layers.Dropout(0.2),\n",
        "    tf.keras.layers.Dense(32, activation='relu'),\n",
        "    tf.keras.layers.Dropout(0.2),\n",
        "    tf.keras.layers.Dense(1, activation='sigmoid')\n",
        "])"
      ],
      "metadata": {
        "id": "0iKcWOf51AsK"
      },
      "execution_count": null,
      "outputs": []
    },
    {
      "cell_type": "code",
      "source": [
        "sample_text = ('Простите а как можно отразить сумму кредита в приложении но чтобы он не как трата прошёл?')\n",
        "predictions = model.predict(np.array([sample_text]))\n",
        "print(predictions[0])"
      ],
      "metadata": {
        "colab": {
          "base_uri": "https://localhost:8080/"
        },
        "id": "YwN_1TMH1Exu",
        "outputId": "7da7e1ab-7e49-483d-c331-d807560f8668"
      },
      "execution_count": null,
      "outputs": [
        {
          "output_type": "stream",
          "name": "stdout",
          "text": [
            "1/1 [==============================] - 4s 4s/step\n",
            "[0.50124234]\n"
          ]
        }
      ]
    },
    {
      "cell_type": "code",
      "source": [
        "padding = \"как \" * 2000\n",
        "predictions = model.predict(np.array([sample_text, padding]))\n",
        "print(predictions[0])"
      ],
      "metadata": {
        "colab": {
          "base_uri": "https://localhost:8080/"
        },
        "id": "hRsVmO9C1Gkn",
        "outputId": "5f44eb02-31e5-4fc9-a644-c6136adbea7c"
      },
      "execution_count": null,
      "outputs": [
        {
          "output_type": "stream",
          "name": "stdout",
          "text": [
            "1/1 [==============================] - 1s 652ms/step\n",
            "[0.50124234]\n"
          ]
        }
      ]
    },
    {
      "cell_type": "code",
      "source": [
        "checkpoint_path = 'training/cp.ckpt'\n",
        "cp_callback = tf.keras.callbacks.ModelCheckpoint(filepath=checkpoint_path,\n",
        "                                                 save_weights_only=True,\n",
        "                                                 save_best_only=True,\n",
        "                                                 verbose=1,\n",
        "                                                 monitor='val_loss')\n",
        "es_callback = tf.keras.callbacks.EarlyStopping(\n",
        "    monitor='val_loss',\n",
        "    min_delta=0,\n",
        "    patience=2,\n",
        "    verbose=0,\n",
        "    mode='auto',\n",
        "    baseline=None,\n",
        "    restore_best_weights=False\n",
        ")"
      ],
      "metadata": {
        "id": "bv1-uNXOkRen"
      },
      "execution_count": null,
      "outputs": []
    },
    {
      "cell_type": "code",
      "source": [
        "#from tensorflow.keras import metrics\n",
        "model.compile(loss=tf.keras.losses.BinaryCrossentropy(),\n",
        "              optimizer=tf.keras.optimizers.Adam(1e-4),\n",
        "              metrics=[tf.keras.metrics.Precision(), tf.keras.metrics.Recall(), tf.keras.metrics.BinaryAccuracy()])\n",
        "print(model.summary())"
      ],
      "metadata": {
        "id": "2cnSvznu1H3k",
        "colab": {
          "base_uri": "https://localhost:8080/"
        },
        "outputId": "a90bfeaa-0dbe-4bc4-a482-f802359ef47f"
      },
      "execution_count": null,
      "outputs": [
        {
          "output_type": "stream",
          "name": "stdout",
          "text": [
            "Model: \"sequential\"\n",
            "_________________________________________________________________\n",
            " Layer (type)                Output Shape              Param #   \n",
            "=================================================================\n",
            " text_vectorization (TextVec  (None, None)             0         \n",
            " torization)                                                     \n",
            "                                                                 \n",
            " embedding (Embedding)       (None, None, 64)          2380352   \n",
            "                                                                 \n",
            " bidirectional (Bidirectiona  (None, 128)              66048     \n",
            " l)                                                              \n",
            "                                                                 \n",
            " dropout (Dropout)           (None, 128)               0         \n",
            "                                                                 \n",
            " dense (Dense)               (None, 256)               33024     \n",
            "                                                                 \n",
            " dropout_1 (Dropout)         (None, 256)               0         \n",
            "                                                                 \n",
            " dense_1 (Dense)             (None, 64)                16448     \n",
            "                                                                 \n",
            " dropout_2 (Dropout)         (None, 64)                0         \n",
            "                                                                 \n",
            " dense_2 (Dense)             (None, 32)                2080      \n",
            "                                                                 \n",
            " dropout_3 (Dropout)         (None, 32)                0         \n",
            "                                                                 \n",
            " dense_3 (Dense)             (None, 1)                 33        \n",
            "                                                                 \n",
            "=================================================================\n",
            "Total params: 2,497,985\n",
            "Trainable params: 2,497,985\n",
            "Non-trainable params: 0\n",
            "_________________________________________________________________\n",
            "None\n"
          ]
        }
      ]
    },
    {
      "cell_type": "code",
      "source": [
        "#with tf.device('/device:GPU:0'):\n",
        "history = model.fit(train_dataset, epochs=20,\n",
        "                    validation_data=val_dataset,\n",
        "                    callbacks=[es_callback, cp_callback])"
      ],
      "metadata": {
        "colab": {
          "base_uri": "https://localhost:8080/"
        },
        "id": "KjG5H1j61JE5",
        "outputId": "cc87e005-5795-4ebe-c9d4-bb8e137aac6b"
      },
      "execution_count": null,
      "outputs": [
        {
          "output_type": "stream",
          "name": "stdout",
          "text": [
            "Epoch 1/20\n",
            "1094/1094 [==============================] - ETA: 0s - loss: 0.4446 - precision: 0.7403 - recall: 0.8788 - binary_accuracy: 0.7843\n",
            "Epoch 1: val_loss improved from inf to 0.27794, saving model to training/cp.ckpt\n",
            "1094/1094 [==============================] - 157s 133ms/step - loss: 0.4446 - precision: 0.7403 - recall: 0.8788 - binary_accuracy: 0.7843 - val_loss: 0.2779 - val_precision: 0.8722 - val_recall: 0.8857 - val_binary_accuracy: 0.8798\n",
            "Epoch 2/20\n",
            "1094/1094 [==============================] - ETA: 0s - loss: 0.2317 - precision: 0.9038 - recall: 0.9154 - binary_accuracy: 0.9086\n",
            "Epoch 2: val_loss improved from 0.27794 to 0.27169, saving model to training/cp.ckpt\n",
            "1094/1094 [==============================] - 136s 124ms/step - loss: 0.2317 - precision: 0.9038 - recall: 0.9154 - binary_accuracy: 0.9086 - val_loss: 0.2717 - val_precision: 0.8827 - val_recall: 0.8866 - val_binary_accuracy: 0.8862\n",
            "Epoch 3/20\n",
            "1094/1094 [==============================] - ETA: 0s - loss: 0.1533 - precision: 0.9430 - recall: 0.9494 - binary_accuracy: 0.9458\n",
            "Epoch 3: val_loss did not improve from 0.27169\n",
            "1094/1094 [==============================] - 138s 126ms/step - loss: 0.1533 - precision: 0.9430 - recall: 0.9494 - binary_accuracy: 0.9458 - val_loss: 0.3243 - val_precision: 0.8792 - val_recall: 0.8756 - val_binary_accuracy: 0.8795\n",
            "Epoch 4/20\n",
            "1094/1094 [==============================] - ETA: 0s - loss: 0.0996 - precision: 0.9688 - recall: 0.9704 - binary_accuracy: 0.9695\n",
            "Epoch 4: val_loss did not improve from 0.27169\n",
            "1094/1094 [==============================] - 136s 124ms/step - loss: 0.0996 - precision: 0.9688 - recall: 0.9704 - binary_accuracy: 0.9695 - val_loss: 0.3975 - val_precision: 0.8788 - val_recall: 0.8611 - val_binary_accuracy: 0.8731\n"
          ]
        }
      ]
    },
    {
      "cell_type": "markdown",
      "source": [
        "# Результат"
      ],
      "metadata": {
        "id": "PS5dCAnNuRzJ"
      }
    },
    {
      "cell_type": "code",
      "source": [
        "model.load_weights(checkpoint_path)\n",
        "model.compile(loss=tf.keras.losses.BinaryCrossentropy(),\n",
        "              optimizer=tf.keras.optimizers.Adam(1e-4),\n",
        "              metrics=[tf.keras.metrics.Precision(), tf.keras.metrics.Recall(), tf.keras.metrics.BinaryAccuracy()])\n",
        "test_loss, test_pre, test_recc, test_acc = model.evaluate(test_dataset)\n",
        "\n",
        "print('Test Loss:', test_loss)\n",
        "print('Test Accuracy:', test_acc)"
      ],
      "metadata": {
        "colab": {
          "base_uri": "https://localhost:8080/"
        },
        "id": "TzJKSaPP1hQl",
        "outputId": "147664c3-cdef-4c54-c7a9-8d217b17f94a"
      },
      "execution_count": null,
      "outputs": [
        {
          "output_type": "stream",
          "name": "stdout",
          "text": [
            "141/141 [==============================] - 8s 29ms/step - loss: 0.2823 - precision_1: 0.8729 - recall_1: 0.8794 - binary_accuracy: 0.8753\n",
            "Test Loss: 0.28232285380363464\n",
            "Test Accuracy: 0.875333309173584\n"
          ]
        }
      ]
    },
    {
      "cell_type": "code",
      "source": [
        "plt.figure(figsize=(16, 8))\n",
        "plt.subplot(1, 2, 1)\n",
        "plot_graphs(history, 'binary_accuracy')\n",
        "plt.ylim(None, 1)\n",
        "plt.subplot(1, 2, 2)\n",
        "plot_graphs(history, 'loss')\n",
        "plt.ylim(0, None)"
      ],
      "metadata": {
        "colab": {
          "base_uri": "https://localhost:8080/",
          "height": 719
        },
        "id": "JV3_nWVU1ip_",
        "outputId": "0d3c43e6-fc33-47e7-887e-7cf3d257f8b1"
      },
      "execution_count": null,
      "outputs": [
        {
          "output_type": "execute_result",
          "data": {
            "text/plain": [
              "(0.0, 0.4618715181946754)"
            ]
          },
          "metadata": {},
          "execution_count": 27
        },
        {
          "output_type": "display_data",
          "data": {
            "text/plain": [
              "<Figure size 1600x800 with 2 Axes>"
            ],
            "image/png": "[encoded data removed]"
          },
          "metadata": {}
        }
      ]
    },
    {
      "cell_type": "code",
      "source": [
        "def get_real_label(sigmoid_out):\n",
        "  if sigmoid_out >= 0.5:\n",
        "    return 1\n",
        "  else:\n",
        "    return 0"
      ],
      "metadata": {
        "id": "FWIHuZybOlC6"
      },
      "execution_count": null,
      "outputs": []
    },
    {
      "cell_type": "code",
      "source": [
        "def get_real_preds(predictions):\n",
        "  return np.array(list(map(get_real_label, predictions)))"
      ],
      "metadata": {
        "id": "GTFUFHoPOz6u"
      },
      "execution_count": null,
      "outputs": []
    },
    {
      "cell_type": "code",
      "source": [
        "sample_text = ['банк тоже не передает знак операции. Тут надо по логам разбираться',\n",
        "               'Всем привет. После обновления не показывает баланс на вкладке счета. Как решить эту проблему?',\n",
        "               'Сколько можно задавать одни и те же вопросы?']\n",
        "predictions = model.predict(np.array(sample_text))\n",
        "print(get_real_preds(predictions))"
      ],
      "metadata": {
        "colab": {
          "base_uri": "https://localhost:8080/"
        },
        "id": "sPThm_wv1j--",
        "outputId": "e05c7201-388c-4f17-a2a4-f22aaacd8320"
      },
      "execution_count": null,
      "outputs": [
        {
          "output_type": "stream",
          "name": "stdout",
          "text": [
            "1/1 [==============================] - 4s 4s/step\n",
            "[0 0 0]\n"
          ]
        }
      ]
    },
    {
      "cell_type": "code",
      "source": [
        "#json_to_check = json.load(open(\"/content/real_test.json\"))\n",
        "#for row in json_to_check:\n",
        "#  if row['label'] == 1:\n",
        "#    row['label'] = 0\n",
        "#  if row['label'] == 3 or row['label'] == 2:\n",
        "#    row['label'] = 1\n",
        "\n",
        "#pd.read_json(json.dumps(json_to_check))\n",
        "\n",
        "json_data = json.load(open(\"/content/drive/MyDrive/ML/ee66fe54-da44-411e-a67e-19bacd205646.json\"))\n",
        "\n",
        "questions = []\n",
        "\n",
        "for row in json_data:\n",
        "  questions.append({\n",
        "      'text': row['question']['text'],\n",
        "      'label': row['is_good_question']\n",
        "  })"
      ],
      "metadata": {
        "id": "HUMLKB15GVyR"
      },
      "execution_count": null,
      "outputs": []
    },
    {
      "cell_type": "code",
      "source": [
        "data_to_check = pd.read_json(json.dumps(questions))\n",
        "data_to_check = data_to_check.groupby(\"label\").head(min(data_to_check[\"label\"].value_counts()))\n",
        "print(data_to_check.head())\n",
        "print(len(data_to_check))"
      ],
      "metadata": {
        "colab": {
          "base_uri": "https://localhost:8080/"
        },
        "id": "i8aOcCKvGnVI",
        "outputId": "544464be-c6f9-4a37-9367-a4208d1db0ea"
      },
      "execution_count": null,
      "outputs": [
        {
          "output_type": "stream",
          "name": "stdout",
          "text": [
            "                                                text  label\n",
            "0  А в чем смысл этой беседы? Здесь можно задават...      0\n",
            "1  Я прост состою в МФТИшнлй беседе до сих, там у...      0\n",
            "2  Не, если я буду куратором, то скорее всего я б...      0\n",
            "3  Добрый день! Даёт ли перечневая олимпиада по и...      1\n",
            "4  Добрый день.не увидела в списке волонтерскую д...      1\n",
            "396\n"
          ]
        }
      ]
    },
    {
      "cell_type": "code",
      "source": [
        "X_check = data_to_check['text'].apply(normalize)\n",
        "Y_check = data_to_check['label']"
      ],
      "metadata": {
        "id": "eXkTGsafG0nI"
      },
      "execution_count": null,
      "outputs": []
    },
    {
      "cell_type": "code",
      "source": [
        "Y_pred1 = model.predict(X_check.to_numpy())\n",
        "Y_pred = get_real_preds(Y_pred1)\n",
        "print(Y_pred)"
      ],
      "metadata": {
        "colab": {
          "base_uri": "https://localhost:8080/"
        },
        "id": "S-jL79lvHY3g",
        "outputId": "e562a4bf-462d-4c74-d599-72db0cff5881"
      },
      "execution_count": null,
      "outputs": [
        {
          "output_type": "stream",
          "name": "stdout",
          "text": [
            "13/13 [==============================] - 0s 21ms/step\n",
            "[0 0 0 1 1 1 1 0 1 0 0 0 1 0 0 1 1 0 1 1 1 1 1 1 1 1 0 1 1 1 1 1 1 1 1 1 1\n",
            " 0 0 1 1 1 0 1 1 1 0 1 1 0 1 0 0 1 0 0 1 1 0 0 1 1 1 0 0 1 1 1 1 0 1 1 1 1\n",
            " 0 0 1 1 1 1 1 1 1 1 0 1 1 1 1 1 1 1 1 1 1 1 1 1 1 1 0 1 1 0 1 1 1 0 0 0 1\n",
            " 1 1 1 1 1 1 1 1 1 1 1 1 1 1 1 1 0 0 1 1 1 1 1 1 0 1 1 1 1 1 1 1 1 0 1 1 1\n",
            " 1 1 1 0 1 1 0 0 1 1 1 0 0 0 1 1 1 1 1 0 1 1 1 1 1 1 1 0 0 0 1 1 1 0 1 0 1\n",
            " 0 1 1 1 1 1 1 1 1 1 1 1 1 1 1 1 0 0 1 1 0 1 1 1 1 0 0 1 1 1 1 1 1 0 0 1 1\n",
            " 0 1 1 1 1 1 1 0 0 0 1 1 0 1 1 0 0 1 1 0 1 1 1 1 1 1 1 1 1 1 0 0 1 1 0 1 1\n",
            " 1 0 1 0 1 1 1 1 0 0 1 1 1 1 0 1 1 1 1 0 1 1 0 1 1 1 1 1 1 1 1 1 1 1 1 1 1\n",
            " 1 1 1 0 1 1 1 0 1 1 1 1 1 1 1 1 1 1 1 1 1 0 1 1 1 0 1 1 1 1 1 0 1 1 1 1 1\n",
            " 1 1 1 1 0 1 1 1 1 1 1 0 1 0 1 1 1 1 1 1 1 1 1 0 1 0 1 1 1 1 1 1 0 1 1 1 1\n",
            " 1 1 0 1 1 1 0 1 1 0 0 1 1 1 0 1 0 1 1 0 1 1 1 1 1 1]\n"
          ]
        }
      ]
    },
    {
      "cell_type": "code",
      "source": [
        "from sklearn.metrics import f1_score, precision_score, recall_score, confusion_matrix\n",
        "from sklearn.metrics import classification_report\n",
        "\n",
        "print(precision_score(Y_check, Y_pred , average=\"macro\"))\n",
        "print(recall_score(Y_check, Y_pred , average=\"macro\"))\n",
        "print(f1_score(Y_check, Y_pred , average=\"macro\"))\n",
        "\n",
        "target_names = ['NO', 'GOOD']\n",
        "print(classification_report(Y_check, Y_pred, target_names=target_names))"
      ],
      "metadata": {
        "colab": {
          "base_uri": "https://localhost:8080/"
        },
        "id": "C5rrxo7kIIgy",
        "outputId": "f81d7da7-f869-4212-f0eb-fa9fca6e16fd"
      },
      "execution_count": null,
      "outputs": [
        {
          "output_type": "stream",
          "name": "stdout",
          "text": [
            "0.7002555094219098\n",
            "0.6439393939393939\n",
            "0.617013395888635\n",
            "              precision    recall  f1-score   support\n",
            "\n",
            "          NO       0.81      0.38      0.52       198\n",
            "        GOOD       0.59      0.91      0.72       198\n",
            "\n",
            "    accuracy                           0.64       396\n",
            "   macro avg       0.70      0.64      0.62       396\n",
            "weighted avg       0.70      0.64      0.62       396\n",
            "\n"
          ]
        }
      ]
    },
    {
      "cell_type": "markdown",
      "source": [
        "# Fine tuning"
      ],
      "metadata": {
        "id": "mH_ohlwit97o"
      }
    },
    {
      "cell_type": "code",
      "source": [
        "X_train, X_test, y_train, y_test = train_test_split(X_check, Y_check, train_size=0.7, random_state=42)\n",
        "\n",
        "data_features_tensor= tf.convert_to_tensor(X_train, dtype=tf.string)\n",
        "data_labels_tensor = tf.constant(y_train)\n",
        "data_features_tensor_test= tf.convert_to_tensor(X_test, dtype=tf.string)\n",
        "data_labels_tensor_test = tf.constant(y_test)\n",
        "train_dataset = tf.data.Dataset.from_tensor_slices((data_features_tensor, data_labels_tensor))\n",
        "test_dataset = tf.data.Dataset.from_tensor_slices((data_features_tensor_test, data_labels_tensor_test))"
      ],
      "metadata": {
        "id": "Mpanoqg4ty_d"
      },
      "execution_count": null,
      "outputs": []
    },
    {
      "cell_type": "code",
      "source": [
        "# Batch the training and testing datasets\n",
        "batch_size = 4\n",
        "\n",
        "train_dataset = train_dataset.batch(batch_size)\n",
        "test_dataset = test_dataset.batch(batch_size)\n",
        "\n",
        "steps_per_epoch = len(train_dataset)\n",
        "print(f\"steps_per_epoch: {steps_per_epoch}\")\n",
        "print(f\"train_dataset: {len(train_dataset)}\")\n",
        "print(f\"test_dataset: {len(test_dataset)}\")"
      ],
      "metadata": {
        "colab": {
          "base_uri": "https://localhost:8080/"
        },
        "id": "Yi06udDWDF6F",
        "outputId": "744916ac-9e5a-4763-ab86-58785f7e6eb1"
      },
      "execution_count": null,
      "outputs": [
        {
          "output_type": "stream",
          "name": "stdout",
          "text": [
            "steps_per_epoch: 70\n",
            "train_dataset: 70\n",
            "test_dataset: 30\n"
          ]
        }
      ]
    },
    {
      "cell_type": "code",
      "source": [
        "checkpoint_path_tune = 'training_fine_tune/cp.ckpt'\n",
        "cp_callback_tune = tf.keras.callbacks.ModelCheckpoint(filepath=checkpoint_path_tune,\n",
        "                                                 save_weights_only=True,\n",
        "                                                 save_best_only=True,\n",
        "                                                 verbose=1,\n",
        "                                                 monitor='val_loss')\n",
        "es_callback_tune = tf.keras.callbacks.EarlyStopping(\n",
        "    monitor='val_loss',\n",
        "    min_delta=0,\n",
        "    patience=2,\n",
        "    verbose=0,\n",
        "    mode='auto',\n",
        "    baseline=None,\n",
        "    restore_best_weights=False\n",
        ")"
      ],
      "metadata": {
        "id": "H4CUYfgenank"
      },
      "execution_count": null,
      "outputs": []
    },
    {
      "cell_type": "code",
      "source": [
        "model.compile(loss=tf.keras.losses.BinaryCrossentropy(),\n",
        "              optimizer=tf.keras.optimizers.Adam(1e-4),\n",
        "              metrics=[tf.keras.metrics.Precision(), tf.keras.metrics.Recall(), tf.keras.metrics.BinaryAccuracy()])"
      ],
      "metadata": {
        "id": "EG49cA46vW9t"
      },
      "execution_count": null,
      "outputs": []
    },
    {
      "cell_type": "code",
      "source": [
        "history = model.fit(train_dataset, epochs=20,\n",
        "                    validation_data=test_dataset,\n",
        "                    callbacks=[cp_callback_tune, es_callback_tune])"
      ],
      "metadata": {
        "colab": {
          "base_uri": "https://localhost:8080/"
        },
        "id": "SCXLUC0wC3fx",
        "outputId": "0ac786c6-ea33-4127-c3d9-b8c473fc4801"
      },
      "execution_count": null,
      "outputs": [
        {
          "output_type": "stream",
          "name": "stdout",
          "text": [
            "Epoch 1/20\n",
            "70/70 [==============================] - ETA: 0s - loss: 0.9137 - precision_2: 0.6272 - recall_2: 0.7626 - binary_accuracy: 0.6534\n",
            "Epoch 1: val_loss improved from inf to 0.71030, saving model to training_fine_tune/cp.ckpt\n",
            "70/70 [==============================] - 21s 134ms/step - loss: 0.9137 - precision_2: 0.6272 - recall_2: 0.7626 - binary_accuracy: 0.6534 - val_loss: 0.7103 - val_precision_2: 0.6825 - val_recall_2: 0.7288 - val_binary_accuracy: 0.6975\n",
            "Epoch 2/20\n",
            "69/70 [============================>.] - ETA: 0s - loss: 0.6509 - precision_2: 0.6892 - recall_2: 0.7338 - binary_accuracy: 0.6993\n",
            "Epoch 2: val_loss improved from 0.71030 to 0.66038, saving model to training_fine_tune/cp.ckpt\n",
            "70/70 [==============================] - 5s 72ms/step - loss: 0.6505 - precision_2: 0.6892 - recall_2: 0.7338 - binary_accuracy: 0.7004 - val_loss: 0.6604 - val_precision_2: 0.6769 - val_recall_2: 0.7458 - val_binary_accuracy: 0.6975\n",
            "Epoch 3/20\n",
            "70/70 [==============================] - ETA: 0s - loss: 0.5749 - precision_2: 0.7181 - recall_2: 0.7698 - binary_accuracy: 0.7329\n",
            "Epoch 3: val_loss improved from 0.66038 to 0.63805, saving model to training_fine_tune/cp.ckpt\n",
            "70/70 [==============================] - 6s 90ms/step - loss: 0.5749 - precision_2: 0.7181 - recall_2: 0.7698 - binary_accuracy: 0.7329 - val_loss: 0.6380 - val_precision_2: 0.6818 - val_recall_2: 0.7627 - val_binary_accuracy: 0.7059\n",
            "Epoch 4/20\n",
            "69/70 [============================>.] - ETA: 0s - loss: 0.5041 - precision_2: 0.7619 - recall_2: 0.8058 - binary_accuracy: 0.7754\n",
            "Epoch 4: val_loss improved from 0.63805 to 0.63366, saving model to training_fine_tune/cp.ckpt\n",
            "70/70 [==============================] - 6s 88ms/step - loss: 0.5034 - precision_2: 0.7619 - recall_2: 0.8058 - binary_accuracy: 0.7762 - val_loss: 0.6337 - val_precision_2: 0.6818 - val_recall_2: 0.7627 - val_binary_accuracy: 0.7059\n",
            "Epoch 5/20\n",
            "70/70 [==============================] - ETA: 0s - loss: 0.4461 - precision_2: 0.7987 - recall_2: 0.8561 - binary_accuracy: 0.8195\n",
            "Epoch 5: val_loss did not improve from 0.63366\n",
            "70/70 [==============================] - 6s 89ms/step - loss: 0.4461 - precision_2: 0.7987 - recall_2: 0.8561 - binary_accuracy: 0.8195 - val_loss: 0.6385 - val_precision_2: 0.6618 - val_recall_2: 0.7627 - val_binary_accuracy: 0.6891\n",
            "Epoch 6/20\n",
            "69/70 [============================>.] - ETA: 0s - loss: 0.4327 - precision_2: 0.8056 - recall_2: 0.8345 - binary_accuracy: 0.8152\n",
            "Epoch 6: val_loss did not improve from 0.63366\n",
            "70/70 [==============================] - 6s 88ms/step - loss: 0.4324 - precision_2: 0.8056 - recall_2: 0.8345 - binary_accuracy: 0.8159 - val_loss: 0.6427 - val_precision_2: 0.6875 - val_recall_2: 0.7458 - val_binary_accuracy: 0.7059\n"
          ]
        }
      ]
    },
    {
      "cell_type": "code",
      "source": [
        "model.load_weights(checkpoint_path_tune)\n",
        "model.compile(loss=tf.keras.losses.BinaryCrossentropy(),\n",
        "              optimizer=tf.keras.optimizers.Adam(1e-4),\n",
        "              metrics=[tf.keras.metrics.Precision(), tf.keras.metrics.Recall(), tf.keras.metrics.BinaryAccuracy()])\n",
        "\n",
        "test_loss, test_pre, test_recc, test_acc = model.evaluate(test_dataset)\n",
        "\n",
        "print('Test Loss:', test_loss)\n",
        "print('Test Accuracy:', test_acc)\n",
        "print('Test Precision:', test_pre)\n",
        "print('Test Recall:', test_recc)\n",
        "\n",
        "plt.figure(figsize=(16, 8))\n",
        "plt.subplot(1, 2, 1)\n",
        "plot_graphs(history, 'binary_accuracy')\n",
        "plt.ylim(None, 1)\n",
        "plt.subplot(1, 2, 2)\n",
        "plot_graphs(history, 'loss')\n",
        "plt.ylim(0, None)"
      ],
      "metadata": {
        "colab": {
          "base_uri": "https://localhost:8080/",
          "height": 812
        },
        "id": "BhTZ7cO3EtPc",
        "outputId": "2475a427-8c39-43c1-975e-bfe6acfb5426"
      },
      "execution_count": null,
      "outputs": [
        {
          "output_type": "stream",
          "name": "stdout",
          "text": [
            "30/30 [==============================] - 3s 7ms/step - loss: 0.6337 - precision_3: 0.6818 - recall_3: 0.7627 - binary_accuracy: 0.7059\n",
            "Test Loss: 0.6336597204208374\n",
            "Test Accuracy: 0.7058823704719543\n",
            "Test Precision: 0.6818181872367859\n",
            "Test Recall: 0.7627118825912476\n"
          ]
        },
        {
          "output_type": "execute_result",
          "data": {
            "text/plain": [
              "(0.0, 0.937748073041439)"
            ]
          },
          "metadata": {},
          "execution_count": 41
        },
        {
          "output_type": "display_data",
          "data": {
            "text/plain": [
              "<Figure size 1600x800 with 2 Axes>"
            ],
            "image/png": "[encoded data removed]"
          },
          "metadata": {}
        }
      ]
    },
    {
      "cell_type": "code",
      "source": [
        "Y_pred1 = model.predict(X_test.to_numpy())\n",
        "Y_pred = get_real_preds(Y_pred1)\n",
        "print(Y_pred)\n",
        "\n",
        "print(precision_score(y_test, Y_pred , average=\"macro\"))\n",
        "print(recall_score(y_test, Y_pred , average=\"macro\"))\n",
        "print(f1_score(y_test, Y_pred , average=\"macro\"))"
      ],
      "metadata": {
        "colab": {
          "base_uri": "https://localhost:8080/"
        },
        "id": "kVfG3-WXE-58",
        "outputId": "d545a422-8543-4c5c-9a8c-5e46688e53af"
      },
      "execution_count": null,
      "outputs": [
        {
          "output_type": "stream",
          "name": "stdout",
          "text": [
            "4/4 [==============================] - 4s 34ms/step\n",
            "[0 0 1 0 1 0 0 0 1 0 0 0 1 0 1 1 1 1 1 1 1 1 0 0 1 1 1 1 1 1 0 1 1 1 1 0 1\n",
            " 1 1 1 1 1 1 0 0 1 0 1 0 0 0 0 1 0 0 1 0 1 1 0 1 1 1 0 0 1 1 0 1 1 1 0 1 1\n",
            " 0 1 1 0 1 1 0 0 0 1 1 1 0 0 1 1 0 0 0 0 0 0 0 1 0 0 1 1 0 1 1 0 0 0 1 1 0\n",
            " 0 1 1 1 1 1 0 0]\n",
            "0.7088336192109777\n",
            "0.7063559322033899\n",
            "0.7051327433628318\n"
          ]
        }
      ]
    },
    {
      "cell_type": "code",
      "source": [
        "from sklearn.metrics import confusion_matrix, ConfusionMatrixDisplay\n",
        "import matplotlib.pyplot as plt\n",
        "\n",
        "cm_real = confusion_matrix(y_test, Y_pred, labels=[0, 1])\n",
        "disp = ConfusionMatrixDisplay(confusion_matrix=cm_real, display_labels=[0, 1])\n",
        "disp.plot()\n",
        "plt.show()"
      ],
      "metadata": {
        "colab": {
          "base_uri": "https://localhost:8080/"
        },
        "id": "qu0UFQpO-j3B",
        "outputId": "953ea4f6-c5ae-4b4a-c997-a4b343c3b7b7"
      },
      "execution_count": null,
      "outputs": [
        {
          "output_type": "display_data",
          "data": {
            "text/plain": [
              "<Figure size 640x480 with 2 Axes>"
            ],
            "image/png": "[encoded data removed]"
          },
          "metadata": {}
        }
      ]
    },
    {
      "cell_type": "code",
      "source": [
        "\n",
        "target_names = ['NO', 'GOOD']\n",
        "print(classification_report(y_test, Y_pred, target_names=target_names))"
      ],
      "metadata": {
        "colab": {
          "base_uri": "https://localhost:8080/"
        },
        "id": "Dgsy35HL-8mF",
        "outputId": "16b0fc06-cfc9-4838-8d26-15d7aff31103"
      },
      "execution_count": null,
      "outputs": [
        {
          "output_type": "stream",
          "name": "stdout",
          "text": [
            "              precision    recall  f1-score   support\n",
            "\n",
            "          NO       0.74      0.65      0.69        60\n",
            "        GOOD       0.68      0.76      0.72        59\n",
            "\n",
            "    accuracy                           0.71       119\n",
            "   macro avg       0.71      0.71      0.71       119\n",
            "weighted avg       0.71      0.71      0.71       119\n",
            "\n"
          ]
        }
      ]
    },
    {
      "cell_type": "markdown",
      "source": [],
      "metadata": {
        "id": "Hz7SE0TGF1nN"
      }
    }
  ]
}